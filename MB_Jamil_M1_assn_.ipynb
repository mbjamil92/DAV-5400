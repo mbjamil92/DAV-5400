{
 "cells": [
  {
   "cell_type": "markdown",
   "metadata": {},
   "source": [
    "# Module#1 Assignment (Python Syntax, Data Types, and Control Lists)"
   ]
  },
  {
   "cell_type": "markdown",
   "metadata": {},
   "source": [
    "> ## Submitted by : Muhammad Bilal Jamil (mjamil@mail.yu.edu)\n",
    "> ## Submitted to : Prof. Topor"
   ]
  },
  {
   "cell_type": "code",
   "execution_count": 33,
   "metadata": {},
   "outputs": [
    {
     "name": "stdout",
     "output_type": "stream",
     "text": [
      "     high high.1      2     4    med   low  unacc\n",
      "0    high   high      4  more  small  high    acc\n",
      "1    high   high      4  more    big   low  unacc\n",
      "2    high    low      2  more    big  high    acc\n",
      "3   vhigh    low      3     2    med   med  unacc\n",
      "4     low   high      2     2  small   low  unacc\n",
      "5     med    med      4  more    med  high  vgood\n",
      "6     low    low      3     2    big   med  unacc\n",
      "7   vhigh    low      2     2  small   low  unacc\n",
      "8   vhigh   high      4     4    med   low  unacc\n",
      "9     low    low      2     2    med   med  unacc\n",
      "10  vhigh    low      4  more  small  high    acc\n",
      "11   high    low      2     4    big   med    acc\n",
      "12    low  vhigh      3  more    big   low  unacc\n",
      "13   high    low  5more     2    big   med  unacc\n",
      "14  vhigh   high      2  more    med  high  unacc\n",
      "15    med    med      2     2  small   low  unacc\n",
      "16   high    low  5more     4    med  high    acc\n",
      "17    low    low      3  more    med  high  vgood\n",
      "18    low    low      2     2    big   med  unacc\n",
      "19    med   high      4     2    big  high  unacc\n",
      "20    low    low      2     2  small  high  unacc\n",
      "21  vhigh   high  5more     4    med   med  unacc\n",
      "22    med  vhigh      2     2    big   low  unacc\n",
      "23    low  vhigh      4     4    big   low  unacc\n",
      "24  vhigh    low      3  more    big   low  unacc\n",
      "25    med  vhigh      3     4  small   low  unacc\n",
      "26   high   high      3     4    med   med  unacc\n",
      "27    low   high  5more     2    big   low  unacc\n",
      "28    med   high  5more     2    med   med  unacc\n",
      "29   high    low      3     4    med  high    acc\n",
      "30   high  vhigh  5more     4    med   med  unacc\n",
      "31    low    low  5more     2    med   low  unacc\n",
      "32  vhigh  vhigh      4     2    big  high  unacc\n",
      "33   high    low      3     2    big  high  unacc\n"
     ]
    }
   ],
   "source": [
    "# Importing car sample dataset via upload from files:\n",
    "# Importing pandas for reading the file\n",
    "import pandas as pd\n",
    "df = pd.read_csv('cars-sample35.txt')\n",
    "print(df)"
   ]
  },
  {
   "cell_type": "code",
   "execution_count": 34,
   "metadata": {},
   "outputs": [
    {
     "data": {
      "text/plain": [
       "34"
      ]
     },
     "execution_count": 34,
     "metadata": {},
     "output_type": "execute_result"
    }
   ],
   "source": [
    "len(df)"
   ]
  },
  {
   "cell_type": "markdown",
   "metadata": {},
   "source": [
    "###### Q1) \n",
    "Your first task is to read the file again and extract these seven attributes from each line of the file and create seven distinct Python list objects comprised solely of the values you extracted for a given attribute. In other words, you should have lists of prices, maintenance costs, number of doors, etc. For example, the first five \"luggage\" values should be as follows:['med', 'small', 'big', 'big', 'med'] One way to complete this task would be to use the code snippet from above as a starting point: you could replace the “print(row)” statement with whatever Python code you feel is necessary to create the seven required list objects.\n"
   ]
  },
  {
   "cell_type": "markdown",
   "metadata": {},
   "source": [
    "###### Answer:\n"
   ]
  },
  {
   "cell_type": "code",
   "execution_count": 36,
   "metadata": {},
   "outputs": [
    {
     "name": "stdout",
     "output_type": "stream",
     "text": [
      "['high', 'high', 'high', 'vhigh', 'low', 'med', 'low', 'vhigh', 'vhigh', 'low', 'vhigh', 'high', 'low', 'high', 'vhigh', 'med', 'high', 'low', 'low', 'med', 'low', 'vhigh', 'med', 'low', 'vhigh', 'med', 'high', 'low', 'med', 'high', 'high', 'low', 'vhigh', 'high']\n"
     ]
    }
   ],
   "source": [
    "# We would be creating 7 columns for every attribute from the csv:-\n",
    "\n",
    "# Creating 1st column of price:\n",
    "price = list(df.iloc[:,0])\n",
    "print(price)"
   ]
  },
  {
   "cell_type": "code",
   "execution_count": 37,
   "metadata": {},
   "outputs": [
    {
     "name": "stdout",
     "output_type": "stream",
     "text": [
      "['high', 'high', 'low', 'low', 'high', 'med', 'low', 'low', 'high', 'low', 'low', 'low', 'vhigh', 'low', 'high', 'med', 'low', 'low', 'low', 'high', 'low', 'high', 'vhigh', 'vhigh', 'low', 'vhigh', 'high', 'high', 'high', 'low', 'vhigh', 'low', 'vhigh', 'low']\n"
     ]
    }
   ],
   "source": [
    "# Creating 2nd column of maintenance_cost:\n",
    "maintenance_cost = list(df.iloc[:,1])\n",
    "print(maintenance_cost)"
   ]
  },
  {
   "cell_type": "code",
   "execution_count": 160,
   "metadata": {},
   "outputs": [
    {
     "name": "stdout",
     "output_type": "stream",
     "text": [
      "['4', '4', '2', '3', '2', '4', '3', '2', '4', '2', '4', '2', '3', '5more', '2', '2', '5more', '3', '2', '4', '2', '5more', '2', '4', '3', '3', '3', '5more', '5more', '3', '5more', '5more', '4', '3']\n"
     ]
    }
   ],
   "source": [
    "# Creating 3rd column of number_of_doors:\n",
    "number_of_doors = list(df.iloc[:,2])\n",
    "print(number_of_doors)"
   ]
  },
  {
   "cell_type": "code",
   "execution_count": 40,
   "metadata": {},
   "outputs": [
    {
     "name": "stdout",
     "output_type": "stream",
     "text": [
      "['more', 'more', 'more', '2', '2', 'more', '2', '2', '4', '2', 'more', '4', 'more', '2', 'more', '2', '4', 'more', '2', '2', '2', '4', '2', '4', 'more', '4', '4', '2', '2', '4', '4', '2', '2', '2']\n"
     ]
    }
   ],
   "source": [
    "# Creating 4th column of number_of_passengers:\n",
    "number_of_passengers = list(df.iloc[:,3])\n",
    "print(number_of_passengers)"
   ]
  },
  {
   "cell_type": "code",
   "execution_count": 41,
   "metadata": {},
   "outputs": [
    {
     "name": "stdout",
     "output_type": "stream",
     "text": [
      "['small', 'big', 'big', 'med', 'small', 'med', 'big', 'small', 'med', 'med', 'small', 'big', 'big', 'big', 'med', 'small', 'med', 'med', 'big', 'big', 'small', 'med', 'big', 'big', 'big', 'small', 'med', 'big', 'med', 'med', 'med', 'med', 'big', 'big']\n"
     ]
    }
   ],
   "source": [
    "# Creating 5th column of luggage_capacity:\n",
    "luggage_capacity = list(df.iloc[:,4])\n",
    "print(luggage_capacity)"
   ]
  },
  {
   "cell_type": "code",
   "execution_count": 42,
   "metadata": {},
   "outputs": [
    {
     "name": "stdout",
     "output_type": "stream",
     "text": [
      "['high', 'low', 'high', 'med', 'low', 'high', 'med', 'low', 'low', 'med', 'high', 'med', 'low', 'med', 'high', 'low', 'high', 'high', 'med', 'high', 'high', 'med', 'low', 'low', 'low', 'low', 'med', 'low', 'med', 'high', 'med', 'low', 'high', 'high']\n"
     ]
    }
   ],
   "source": [
    "# Creating 6th column of safety_rating:\n",
    "safety_rating = list(df.iloc[:,5])\n",
    "print(safety_rating)"
   ]
  },
  {
   "cell_type": "code",
   "execution_count": 43,
   "metadata": {},
   "outputs": [
    {
     "name": "stdout",
     "output_type": "stream",
     "text": [
      "['acc', 'unacc', 'acc', 'unacc', 'unacc', 'vgood', 'unacc', 'unacc', 'unacc', 'unacc', 'acc', 'acc', 'unacc', 'unacc', 'unacc', 'unacc', 'acc', 'vgood', 'unacc', 'unacc', 'unacc', 'unacc', 'unacc', 'unacc', 'unacc', 'unacc', 'unacc', 'unacc', 'unacc', 'acc', 'unacc', 'unacc', 'unacc', 'unacc']\n"
     ]
    }
   ],
   "source": [
    "# Creating 7th of classification_of_vehicle:\n",
    "classification_of_vehicle = list(df.iloc[:,6])\n",
    "print(classification_of_vehicle)"
   ]
  },
  {
   "cell_type": "markdown",
   "metadata": {},
   "source": [
    "###### Q2) \n",
    "Your second task is to find the list index values of each automobile having a “price” rating of \"med\". Create a new list object with your result. HINT: you can accomplish this task by searching the list of price values you created earlier. Be sure to print your results."
   ]
  },
  {
   "cell_type": "markdown",
   "metadata": {},
   "source": [
    "###### Answer:"
   ]
  },
  {
   "cell_type": "code",
   "execution_count": 98,
   "metadata": {
    "scrolled": true
   },
   "outputs": [
    {
     "data": {
      "text/plain": [
       "[5, 15, 19, 22, 25, 28]"
      ]
     },
     "execution_count": 98,
     "metadata": {},
     "output_type": "execute_result"
    }
   ],
   "source": [
    "# Now using for loop and if statement to calculate the indexes from the \"price\" column with a rating of \"med\":\n",
    "[i for i in range(len(price)) if price[i] == 'med']"
   ]
  },
  {
   "cell_type": "code",
   "execution_count": 63,
   "metadata": {},
   "outputs": [
    {
     "name": "stdout",
     "output_type": "stream",
     "text": [
      "0      high\n",
      "1      high\n",
      "2      high\n",
      "3     vhigh\n",
      "4       low\n",
      "5       med\n",
      "6       low\n",
      "7     vhigh\n",
      "8     vhigh\n",
      "9       low\n",
      "10    vhigh\n",
      "11     high\n",
      "12      low\n",
      "13     high\n",
      "14    vhigh\n",
      "15      med\n",
      "16     high\n",
      "17      low\n",
      "18      low\n",
      "19      med\n",
      "20      low\n",
      "21    vhigh\n",
      "22      med\n",
      "23      low\n",
      "24    vhigh\n",
      "25      med\n",
      "26     high\n",
      "27      low\n",
      "28      med\n",
      "29     high\n",
      "30     high\n",
      "31      low\n",
      "32    vhigh\n",
      "33     high\n",
      "Name: high, dtype: object\n"
     ]
    }
   ],
   "source": [
    "#verifying if these indexes are actually which are represented above:\n",
    "price_df = (df.iloc[:,0])\n",
    "print(price_df)"
   ]
  },
  {
   "cell_type": "code",
   "execution_count": null,
   "metadata": {},
   "outputs": [],
   "source": [
    "# Hence verified that 5, 15, 19, 22, 25, 28 are \"Med\"."
   ]
  },
  {
   "cell_type": "markdown",
   "metadata": {},
   "source": [
    "###### Q3) \n",
    "Your third task is to find the \"number of passengers\" value for each auto having a \"price\" value of \"med\". Create a new list to store your findings and be sure to print your results."
   ]
  },
  {
   "cell_type": "markdown",
   "metadata": {},
   "source": [
    "###### Answer:"
   ]
  },
  {
   "cell_type": "code",
   "execution_count": 99,
   "metadata": {},
   "outputs": [
    {
     "name": "stdout",
     "output_type": "stream",
     "text": [
      "The values of passengers where price is med are: [['more', 'med'], ['2', 'med'], ['2', 'med'], ['2', 'med'], ['4', 'med'], ['2', 'med']]\n"
     ]
    }
   ],
   "source": [
    "#for this question as suggested in the book I will use the concepts of zip and for loops:\n",
    "list1 = [[i,j] for i,j in zip(number_of_passengers, price) if j==\"med\"]\n",
    "print('The values of passengers where price is med are:', list1)"
   ]
  },
  {
   "cell_type": "markdown",
   "metadata": {},
   "source": [
    "###### Q4)\n",
    "Your fourth task is to find the index value for each automobile having a “price” value of \"high\" and a “maintenance” value that is not \"low\". Create a new list to store your findings and be sure to print your results."
   ]
  },
  {
   "cell_type": "markdown",
   "metadata": {},
   "source": [
    "###### Answer:"
   ]
  },
  {
   "cell_type": "code",
   "execution_count": 119,
   "metadata": {},
   "outputs": [],
   "source": [
    "#Creating two lists \"high_price\" and \"final_index\" where I will first find the vehicle where price = 'High'  \n",
    "# Then in last step filter the \"maintenance_cost\" column w.r.t the findings in the first step:\n",
    "\n",
    "high_price = [i for i in range(len(price)) if price[i] == 'high']\n",
    "final_index = [j for j in high_price if maintenance_cost[j] != 'low']"
   ]
  },
  {
   "cell_type": "code",
   "execution_count": 120,
   "metadata": {},
   "outputs": [
    {
     "name": "stdout",
     "output_type": "stream",
     "text": [
      "[0, 1, 26, 30]\n"
     ]
    }
   ],
   "source": [
    "print(final_index)"
   ]
  },
  {
   "cell_type": "markdown",
   "metadata": {},
   "source": [
    "###### Q5)\n",
    "Your fifth task is to find the index value for each auto having 2 doors and a luggage value of \"big\". Create a new list to store your findings and be sure to print your results."
   ]
  },
  {
   "cell_type": "markdown",
   "metadata": {},
   "source": [
    "###### Answer:"
   ]
  },
  {
   "cell_type": "code",
   "execution_count": 123,
   "metadata": {},
   "outputs": [
    {
     "name": "stdout",
     "output_type": "stream",
     "text": [
      "[2, 4, 7, 9, 11, 14, 15, 18, 20, 22]\n"
     ]
    }
   ],
   "source": [
    "# Just as in previous question I will again create two lists, first where I will filter the \"doors\" column\n",
    "# Then after that, I will filter the findings where the luggage value is \"big\":\n",
    "\n",
    "doors_cal = [q for q in range(len(number_of_doors)) if number_of_doors[q]=='2']\n",
    "print(doors_cal)"
   ]
  },
  {
   "cell_type": "code",
   "execution_count": 125,
   "metadata": {},
   "outputs": [
    {
     "name": "stdout",
     "output_type": "stream",
     "text": [
      "[2, 11, 18, 22]\n"
     ]
    }
   ],
   "source": [
    "# This calculation is based on the findings where luggage is \"big\" and price is \"high\", we will use the previous results:\n",
    "final_cal = [w for w in doors_cal if luggage_capacity[w]=='big']\n",
    "print(final_cal)"
   ]
  },
  {
   "cell_type": "markdown",
   "metadata": {},
   "source": [
    "###### Q6)\n",
    "Finally, create a new list containing the only the integer equivalents of the doors values. Keep in mind that the lists you have created thus far are composed solely of strings. If you find any values of '5more' in your list, convert them to a '5'. After converting the '5more' values to '5', convert all of the items in your list to their numeric equivalent and calculate the average number of doors across all 35 autos using whichever of Python's built in functions you require. Print your result."
   ]
  },
  {
   "cell_type": "markdown",
   "metadata": {},
   "source": [
    "#### Answer:"
   ]
  },
  {
   "cell_type": "code",
   "execution_count": 168,
   "metadata": {},
   "outputs": [
    {
     "name": "stdout",
     "output_type": "stream",
     "text": [
      "The original list is: ['4', '4', '2', '3', '2', '4', '3', '2', '4', '2', '4', '2', '3', '5', '2', '2', '5', '3', '2', '4', '2', '5', '2', '4', '3', '3', '3', '5', '5', '3', '5', '5', '4', '3']\n"
     ]
    }
   ],
   "source": [
    "#For this question I made a new list called \"new_numlist\", I incorporated all the data from the \"number_of_doors\" column.\n",
    "# I ran a for loop to check for '5more' and then convert it into '5' sting.\n",
    "\n",
    "#I will be cloning the list so that the original 'number_of_doors' is uneffected by any moderations.\n",
    "new_numlist= number_of_doors[:]\n",
    "for r in range(len(number_of_doors)):\n",
    "    if new_numlist[r]=='5more':\n",
    "        new_numlist[r] = '5'\n",
    "print('The original list is:',new_numlist)\n"
   ]
  },
  {
   "cell_type": "code",
   "execution_count": 172,
   "metadata": {},
   "outputs": [
    {
     "name": "stdout",
     "output_type": "stream",
     "text": [
      "Modified List is: [4, 4, 2, 3, 2, 4, 3, 2, 4, 2, 4, 2, 3, 5, 2, 2, 5, 3, 2, 4, 2, 5, 2, 4, 3, 3, 3, 5, 5, 3, 5, 5, 4, 3]\n"
     ]
    }
   ],
   "source": [
    "#Now I have accomplished converting this, I will now use the Naive method to convert all the string values from the \n",
    "# 'new_numlist' list to integers.\n",
    "\n",
    "# Now converting to integers:\n",
    "for e in range(0, len(new_numlist)):\n",
    "    new_numlist[e] = int(new_numlist[e])\n",
    "    \n",
    "#printing modified list:\n",
    "print('Modified List is:', new_numlist)\n"
   ]
  },
  {
   "cell_type": "code",
   "execution_count": 175,
   "metadata": {},
   "outputs": [
    {
     "name": "stdout",
     "output_type": "stream",
     "text": [
      "The average number of doors across 35 autos is 3.3529411764705883\n"
     ]
    }
   ],
   "source": [
    "#Now finding the average:-\n",
    "avg_doors = sum(new_numlist)/len(new_numlist)\n",
    "print('The average number of doors across 35 autos is', avg_doors)"
   ]
  },
  {
   "cell_type": "markdown",
   "metadata": {},
   "source": [
    "## Citations:\n",
    "\n",
    "https://www.dataquest.io/blog/jupyter-notebook-tutorial/\n",
    "https://pandas.pydata.org/pandas-docs/stable/reference/api/pandas.DataFrame.iloc.html\n",
    "https://stackoverflow.com/questions/7270321/finding-the-index-of-elements-based-on-a-condition-using-python-list-comprehensi\n",
    "https://stackoverflow.com/questions/55061846/how-to-zip-items-in-2-lists-only-when-a-condition-is-met-python\n",
    "https://stackoverflow.com/questions/1228299/changing-one-character-in-a-string\n",
    "https://www.saltycrane.com/blog/2008/08/how-conditionally-replace-items-list/\n",
    "https://geeksforgeeks.org/python-converting-all-strings-in-list-to-integers/\n",
    "https://www.techiedelight.com/conditionally-replace-values-list-python/\n",
    "https://www.geeksforgeeks.org/python-string-replace/\n",
    "https://openbookproject.net/thinkcs/python/english3e/lists.html\n",
    "https://careerkarma.com/blog/python-average/#:~:text=There%20are%20two%20ways%20to,the%20Python%20mean()%20function."
   ]
  }
 ],
 "metadata": {
  "kernelspec": {
   "display_name": "Python 3",
   "language": "python",
   "name": "python3"
  },
  "language_info": {
   "codemirror_mode": {
    "name": "ipython",
    "version": 3
   },
   "file_extension": ".py",
   "mimetype": "text/x-python",
   "name": "python",
   "nbconvert_exporter": "python",
   "pygments_lexer": "ipython3",
   "version": "3.8.5"
  }
 },
 "nbformat": 4,
 "nbformat_minor": 4
}
