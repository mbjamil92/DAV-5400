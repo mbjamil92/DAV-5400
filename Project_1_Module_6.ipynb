{
 "cells": [
  {
   "cell_type": "markdown",
   "metadata": {},
   "source": [
    "# Project:1 (Exploratory Data Analysis Using Matplotlib & Seaborn)"
   ]
  },
  {
   "cell_type": "markdown",
   "metadata": {},
   "source": [
    "### Submitted by :\n",
    "\n",
    "* Yuxiao Shen (yshen3@mail.yu.edu)\n",
    "* Muhammad Bilal Jamil (mjamil@mail.yu.edu)\n",
    "\n",
    "### Submitted to : Prof. Topor"
   ]
  },
  {
   "cell_type": "markdown",
   "metadata": {},
   "source": [
    "### Index:\n",
    "\n",
    "#### 1. Initial Data Analysis:\n",
    "#### 2. Introduction\n",
    "#### 3. Data Preparation\n",
    "#### 4. Preliminary Data Analysis\n",
    "#### 5. Research Results\n",
    "#### 6. Conclusion\n"
   ]
  },
  {
   "cell_type": "code",
   "execution_count": 26,
   "metadata": {},
   "outputs": [],
   "source": [
    "import pandas as pd\n",
    "import numpy as np\n",
    "import seaborn as sns\n",
    "import matplotlib.pyplot as plt\n",
    "covid_dataset = 'https://raw.githubusercontent.com/mbjamil92/DAV-5400/main/datasets/data.csv'\n",
    "cd = pd.read_csv(covid_dataset)"
   ]
  },
  {
   "cell_type": "code",
   "execution_count": 11,
   "metadata": {},
   "outputs": [
    {
     "data": {
      "text/plain": [
       "array(['Asia', 'Europe', 'Africa', 'America', 'Oceania', 'Other'],\n",
       "      dtype=object)"
      ]
     },
     "execution_count": 11,
     "metadata": {},
     "output_type": "execute_result"
    }
   ],
   "source": [
    "cd.continentExp.unique()"
   ]
  },
  {
   "cell_type": "code",
   "execution_count": 20,
   "metadata": {
    "scrolled": true
   },
   "outputs": [
    {
     "data": {
      "text/plain": [
       "array(['Australia', 'Fiji', 'French_Polynesia', 'Guam',\n",
       "       'Marshall_Islands', 'New_Caledonia', 'New_Zealand',\n",
       "       'Northern_Mariana_Islands', 'Papua_New_Guinea', 'Solomon_Islands',\n",
       "       'Vanuatu', 'Wallis_and_Futuna'], dtype=object)"
      ]
     },
     "execution_count": 20,
     "metadata": {},
     "output_type": "execute_result"
    }
   ],
   "source": [
    "cd.countriesAndTerritories[(cd['continentExp'] == 'Oceania')].unique()"
   ]
  },
  {
   "cell_type": "code",
   "execution_count": 29,
   "metadata": {},
   "outputs": [
    {
     "ename": "TypeError",
     "evalue": "'data' must be pandas DataFrame object, not: <class 'numpy.ndarray'>",
     "output_type": "error",
     "traceback": [
      "\u001b[1;31m---------------------------------------------------------------------------\u001b[0m",
      "\u001b[1;31mTypeError\u001b[0m                                 Traceback (most recent call last)",
      "\u001b[1;32m<ipython-input-29-4f2d6b46a34b>\u001b[0m in \u001b[0;36m<module>\u001b[1;34m\u001b[0m\n\u001b[1;32m----> 1\u001b[1;33m \u001b[0msns\u001b[0m\u001b[1;33m.\u001b[0m\u001b[0mpairplot\u001b[0m\u001b[1;33m(\u001b[0m\u001b[0msmall_cont\u001b[0m\u001b[1;33m)\u001b[0m\u001b[1;33m\u001b[0m\u001b[1;33m\u001b[0m\u001b[0m\n\u001b[0m",
      "\u001b[1;32m~\\anaconda3\\lib\\site-packages\\seaborn\\_decorators.py\u001b[0m in \u001b[0;36minner_f\u001b[1;34m(*args, **kwargs)\u001b[0m\n\u001b[0;32m     44\u001b[0m             )\n\u001b[0;32m     45\u001b[0m         \u001b[0mkwargs\u001b[0m\u001b[1;33m.\u001b[0m\u001b[0mupdate\u001b[0m\u001b[1;33m(\u001b[0m\u001b[1;33m{\u001b[0m\u001b[0mk\u001b[0m\u001b[1;33m:\u001b[0m \u001b[0marg\u001b[0m \u001b[1;32mfor\u001b[0m \u001b[0mk\u001b[0m\u001b[1;33m,\u001b[0m \u001b[0marg\u001b[0m \u001b[1;32min\u001b[0m \u001b[0mzip\u001b[0m\u001b[1;33m(\u001b[0m\u001b[0msig\u001b[0m\u001b[1;33m.\u001b[0m\u001b[0mparameters\u001b[0m\u001b[1;33m,\u001b[0m \u001b[0margs\u001b[0m\u001b[1;33m)\u001b[0m\u001b[1;33m}\u001b[0m\u001b[1;33m)\u001b[0m\u001b[1;33m\u001b[0m\u001b[1;33m\u001b[0m\u001b[0m\n\u001b[1;32m---> 46\u001b[1;33m         \u001b[1;32mreturn\u001b[0m \u001b[0mf\u001b[0m\u001b[1;33m(\u001b[0m\u001b[1;33m**\u001b[0m\u001b[0mkwargs\u001b[0m\u001b[1;33m)\u001b[0m\u001b[1;33m\u001b[0m\u001b[1;33m\u001b[0m\u001b[0m\n\u001b[0m\u001b[0;32m     47\u001b[0m     \u001b[1;32mreturn\u001b[0m \u001b[0minner_f\u001b[0m\u001b[1;33m\u001b[0m\u001b[1;33m\u001b[0m\u001b[0m\n\u001b[0;32m     48\u001b[0m \u001b[1;33m\u001b[0m\u001b[0m\n",
      "\u001b[1;32m~\\anaconda3\\lib\\site-packages\\seaborn\\axisgrid.py\u001b[0m in \u001b[0;36mpairplot\u001b[1;34m(data, hue, hue_order, palette, vars, x_vars, y_vars, kind, diag_kind, markers, height, aspect, corner, dropna, plot_kws, diag_kws, grid_kws, size)\u001b[0m\n\u001b[0;32m   1913\u001b[0m \u001b[1;33m\u001b[0m\u001b[0m\n\u001b[0;32m   1914\u001b[0m     \u001b[1;32mif\u001b[0m \u001b[1;32mnot\u001b[0m \u001b[0misinstance\u001b[0m\u001b[1;33m(\u001b[0m\u001b[0mdata\u001b[0m\u001b[1;33m,\u001b[0m \u001b[0mpd\u001b[0m\u001b[1;33m.\u001b[0m\u001b[0mDataFrame\u001b[0m\u001b[1;33m)\u001b[0m\u001b[1;33m:\u001b[0m\u001b[1;33m\u001b[0m\u001b[1;33m\u001b[0m\u001b[0m\n\u001b[1;32m-> 1915\u001b[1;33m         raise TypeError(\n\u001b[0m\u001b[0;32m   1916\u001b[0m             \"'data' must be pandas DataFrame object, not: {typefound}\".format(\n\u001b[0;32m   1917\u001b[0m                 typefound=type(data)))\n",
      "\u001b[1;31mTypeError\u001b[0m: 'data' must be pandas DataFrame object, not: <class 'numpy.ndarray'>"
     ]
    }
   ],
   "source": [
    "sns.pairplot(small_cont)"
   ]
  },
  {
   "cell_type": "code",
   "execution_count": 30,
   "metadata": {},
   "outputs": [
    {
     "data": {
      "text/plain": [
       "array(['Andorra', 'Anguilla', 'Antigua_and_Barbuda', 'Bermuda',\n",
       "       'Bonaire, Saint Eustatius and Saba', 'British_Virgin_Islands',\n",
       "       'Cayman_Islands', 'Dominica', 'Falkland_Islands_(Malvinas)',\n",
       "       'Faroe_Islands', 'Gibraltar', 'Greenland', 'Guernsey', 'Holy_See',\n",
       "       'Isle_of_Man', 'Liechtenstein', 'Marshall_Islands', 'Monaco',\n",
       "       'Montserrat', 'Northern_Mariana_Islands', 'Saint_Kitts_and_Nevis',\n",
       "       'San_Marino', 'Seychelles', 'Sint_Maarten',\n",
       "       'Turks_and_Caicos_islands'], dtype=object)"
      ]
     },
     "execution_count": 30,
     "metadata": {},
     "output_type": "execute_result"
    }
   ],
   "source": [
    "cd.countriesAndTerritories[(cd['popData2019'] <= 100000)].unique()"
   ]
  },
  {
   "cell_type": "code",
   "execution_count": 22,
   "metadata": {
    "scrolled": true
   },
   "outputs": [
    {
     "data": {
      "text/plain": [
       "array(['Afghanistan', 'Bahrain', 'Bangladesh', 'Bhutan',\n",
       "       'Brunei_Darussalam', 'Cambodia', 'China', 'India', 'Indonesia',\n",
       "       'Iran', 'Iraq', 'Israel', 'Japan', 'Jordan', 'Kazakhstan',\n",
       "       'Kuwait', 'Kyrgyzstan', 'Laos', 'Lebanon', 'Malaysia', 'Maldives',\n",
       "       'Mongolia', 'Myanmar', 'Nepal', 'Oman', 'Pakistan', 'Palestine',\n",
       "       'Philippines', 'Qatar', 'Saudi_Arabia', 'Singapore', 'South_Korea',\n",
       "       'Sri_Lanka', 'Syria', 'Taiwan', 'Tajikistan', 'Thailand',\n",
       "       'Timor_Leste', 'United_Arab_Emirates', 'Uzbekistan', 'Vietnam',\n",
       "       'Yemen'], dtype=object)"
      ]
     },
     "execution_count": 22,
     "metadata": {},
     "output_type": "execute_result"
    }
   ],
   "source": [
    "cd.countriesAndTerritories[(cd['continentExp'] == 'Asia')].unique()"
   ]
  },
  {
   "cell_type": "code",
   "execution_count": null,
   "metadata": {},
   "outputs": [],
   "source": []
  },
  {
   "cell_type": "code",
   "execution_count": null,
   "metadata": {},
   "outputs": [],
   "source": [
    "## Introduction:\n",
    "\n",
    "''' q1 do a trend of deaths with cases in months of  Jan, Feb, March. 2020 in China and Pakistan and USA \n",
    "    q2 do covid cummaltive analysis in China and Pakistan and USA'''"
   ]
  },
  {
   "cell_type": "code",
   "execution_count": 2,
   "metadata": {},
   "outputs": [
    {
     "data": {
      "text/html": [
       "<div>\n",
       "<style scoped>\n",
       "    .dataframe tbody tr th:only-of-type {\n",
       "        vertical-align: middle;\n",
       "    }\n",
       "\n",
       "    .dataframe tbody tr th {\n",
       "        vertical-align: top;\n",
       "    }\n",
       "\n",
       "    .dataframe thead th {\n",
       "        text-align: right;\n",
       "    }\n",
       "</style>\n",
       "<table border=\"1\" class=\"dataframe\">\n",
       "  <thead>\n",
       "    <tr style=\"text-align: right;\">\n",
       "      <th></th>\n",
       "      <th>dateRep</th>\n",
       "      <th>day</th>\n",
       "      <th>month</th>\n",
       "      <th>year</th>\n",
       "      <th>cases</th>\n",
       "      <th>deaths</th>\n",
       "      <th>countriesAndTerritories</th>\n",
       "      <th>geoId</th>\n",
       "      <th>countryterritoryCode</th>\n",
       "      <th>popData2019</th>\n",
       "      <th>continentExp</th>\n",
       "      <th>Cumulative_number_for_14_days_of_COVID-19_cases_per_100000</th>\n",
       "    </tr>\n",
       "  </thead>\n",
       "  <tbody>\n",
       "    <tr>\n",
       "      <th>0</th>\n",
       "      <td>14/12/2020</td>\n",
       "      <td>14</td>\n",
       "      <td>12</td>\n",
       "      <td>2020</td>\n",
       "      <td>746</td>\n",
       "      <td>6</td>\n",
       "      <td>Afghanistan</td>\n",
       "      <td>AF</td>\n",
       "      <td>AFG</td>\n",
       "      <td>38041757.0</td>\n",
       "      <td>Asia</td>\n",
       "      <td>9.013779</td>\n",
       "    </tr>\n",
       "    <tr>\n",
       "      <th>1</th>\n",
       "      <td>13/12/2020</td>\n",
       "      <td>13</td>\n",
       "      <td>12</td>\n",
       "      <td>2020</td>\n",
       "      <td>298</td>\n",
       "      <td>9</td>\n",
       "      <td>Afghanistan</td>\n",
       "      <td>AF</td>\n",
       "      <td>AFG</td>\n",
       "      <td>38041757.0</td>\n",
       "      <td>Asia</td>\n",
       "      <td>7.052776</td>\n",
       "    </tr>\n",
       "    <tr>\n",
       "      <th>2</th>\n",
       "      <td>12/12/2020</td>\n",
       "      <td>12</td>\n",
       "      <td>12</td>\n",
       "      <td>2020</td>\n",
       "      <td>113</td>\n",
       "      <td>11</td>\n",
       "      <td>Afghanistan</td>\n",
       "      <td>AF</td>\n",
       "      <td>AFG</td>\n",
       "      <td>38041757.0</td>\n",
       "      <td>Asia</td>\n",
       "      <td>6.868768</td>\n",
       "    </tr>\n",
       "    <tr>\n",
       "      <th>3</th>\n",
       "      <td>11/12/2020</td>\n",
       "      <td>11</td>\n",
       "      <td>12</td>\n",
       "      <td>2020</td>\n",
       "      <td>63</td>\n",
       "      <td>10</td>\n",
       "      <td>Afghanistan</td>\n",
       "      <td>AF</td>\n",
       "      <td>AFG</td>\n",
       "      <td>38041757.0</td>\n",
       "      <td>Asia</td>\n",
       "      <td>7.134266</td>\n",
       "    </tr>\n",
       "    <tr>\n",
       "      <th>4</th>\n",
       "      <td>10/12/2020</td>\n",
       "      <td>10</td>\n",
       "      <td>12</td>\n",
       "      <td>2020</td>\n",
       "      <td>202</td>\n",
       "      <td>16</td>\n",
       "      <td>Afghanistan</td>\n",
       "      <td>AF</td>\n",
       "      <td>AFG</td>\n",
       "      <td>38041757.0</td>\n",
       "      <td>Asia</td>\n",
       "      <td>6.968658</td>\n",
       "    </tr>\n",
       "  </tbody>\n",
       "</table>\n",
       "</div>"
      ],
      "text/plain": [
       "      dateRep  day  month  year  cases  deaths countriesAndTerritories geoId  \\\n",
       "0  14/12/2020   14     12  2020    746       6             Afghanistan    AF   \n",
       "1  13/12/2020   13     12  2020    298       9             Afghanistan    AF   \n",
       "2  12/12/2020   12     12  2020    113      11             Afghanistan    AF   \n",
       "3  11/12/2020   11     12  2020     63      10             Afghanistan    AF   \n",
       "4  10/12/2020   10     12  2020    202      16             Afghanistan    AF   \n",
       "\n",
       "  countryterritoryCode  popData2019 continentExp  \\\n",
       "0                  AFG   38041757.0         Asia   \n",
       "1                  AFG   38041757.0         Asia   \n",
       "2                  AFG   38041757.0         Asia   \n",
       "3                  AFG   38041757.0         Asia   \n",
       "4                  AFG   38041757.0         Asia   \n",
       "\n",
       "   Cumulative_number_for_14_days_of_COVID-19_cases_per_100000  \n",
       "0                                           9.013779           \n",
       "1                                           7.052776           \n",
       "2                                           6.868768           \n",
       "3                                           7.134266           \n",
       "4                                           6.968658           "
      ]
     },
     "execution_count": 2,
     "metadata": {},
     "output_type": "execute_result"
    }
   ],
   "source": [
    "cd.head()"
   ]
  },
  {
   "cell_type": "code",
   "execution_count": 8,
   "metadata": {},
   "outputs": [
    {
     "data": {
      "text/plain": [
       "array(['14/12/2020', '13/12/2020', '12/12/2020', '11/12/2020',\n",
       "       '10/12/2020', '09/12/2020', '08/12/2020', '07/12/2020',\n",
       "       '06/12/2020', '05/12/2020', '04/12/2020', '03/12/2020',\n",
       "       '02/12/2020', '01/12/2020', '30/11/2020', '29/11/2020',\n",
       "       '28/11/2020', '27/11/2020', '26/11/2020', '25/11/2020',\n",
       "       '24/11/2020', '23/11/2020', '22/11/2020', '21/11/2020',\n",
       "       '20/11/2020', '19/11/2020', '18/11/2020', '17/11/2020',\n",
       "       '16/11/2020', '15/11/2020', '14/11/2020', '13/11/2020',\n",
       "       '12/11/2020', '11/11/2020', '10/11/2020', '09/11/2020',\n",
       "       '08/11/2020', '07/11/2020', '06/11/2020', '05/11/2020',\n",
       "       '04/11/2020', '03/11/2020', '02/11/2020', '01/11/2020',\n",
       "       '31/10/2020', '30/10/2020', '29/10/2020', '28/10/2020',\n",
       "       '27/10/2020', '26/10/2020', '25/10/2020', '24/10/2020',\n",
       "       '23/10/2020', '22/10/2020', '21/10/2020', '20/10/2020',\n",
       "       '19/10/2020', '18/10/2020', '17/10/2020', '16/10/2020',\n",
       "       '15/10/2020', '14/10/2020', '13/10/2020', '12/10/2020',\n",
       "       '11/10/2020', '10/10/2020', '09/10/2020', '08/10/2020',\n",
       "       '07/10/2020', '06/10/2020', '05/10/2020', '04/10/2020',\n",
       "       '03/10/2020', '02/10/2020', '01/10/2020', '30/09/2020',\n",
       "       '29/09/2020', '28/09/2020', '27/09/2020', '26/09/2020',\n",
       "       '25/09/2020', '24/09/2020', '23/09/2020', '22/09/2020',\n",
       "       '21/09/2020', '20/09/2020', '19/09/2020', '18/09/2020',\n",
       "       '17/09/2020', '16/09/2020', '15/09/2020', '14/09/2020',\n",
       "       '13/09/2020', '12/09/2020', '11/09/2020', '10/09/2020',\n",
       "       '09/09/2020', '08/09/2020', '07/09/2020', '06/09/2020',\n",
       "       '05/09/2020', '04/09/2020', '03/09/2020', '02/09/2020',\n",
       "       '01/09/2020', '31/08/2020', '30/08/2020', '29/08/2020',\n",
       "       '28/08/2020', '27/08/2020', '26/08/2020', '25/08/2020',\n",
       "       '24/08/2020', '23/08/2020', '22/08/2020', '21/08/2020',\n",
       "       '20/08/2020', '19/08/2020', '18/08/2020', '17/08/2020',\n",
       "       '16/08/2020', '15/08/2020', '14/08/2020', '13/08/2020',\n",
       "       '12/08/2020', '11/08/2020', '10/08/2020', '09/08/2020',\n",
       "       '08/08/2020', '07/08/2020', '06/08/2020', '05/08/2020',\n",
       "       '04/08/2020', '03/08/2020', '02/08/2020', '01/08/2020',\n",
       "       '31/07/2020', '30/07/2020', '29/07/2020', '28/07/2020',\n",
       "       '27/07/2020', '26/07/2020', '25/07/2020', '24/07/2020',\n",
       "       '23/07/2020', '22/07/2020', '21/07/2020', '20/07/2020',\n",
       "       '19/07/2020', '18/07/2020', '17/07/2020', '16/07/2020',\n",
       "       '15/07/2020', '14/07/2020', '13/07/2020', '12/07/2020',\n",
       "       '11/07/2020', '10/07/2020', '09/07/2020', '08/07/2020',\n",
       "       '07/07/2020', '06/07/2020', '05/07/2020', '04/07/2020',\n",
       "       '03/07/2020', '02/07/2020', '01/07/2020', '30/06/2020',\n",
       "       '29/06/2020', '28/06/2020', '27/06/2020', '26/06/2020',\n",
       "       '25/06/2020', '24/06/2020', '23/06/2020', '22/06/2020',\n",
       "       '21/06/2020', '20/06/2020', '19/06/2020', '18/06/2020',\n",
       "       '17/06/2020', '16/06/2020', '15/06/2020', '14/06/2020',\n",
       "       '13/06/2020', '12/06/2020', '11/06/2020', '10/06/2020',\n",
       "       '09/06/2020', '08/06/2020', '07/06/2020', '06/06/2020',\n",
       "       '05/06/2020', '04/06/2020', '03/06/2020', '02/06/2020',\n",
       "       '01/06/2020', '31/05/2020', '30/05/2020', '29/05/2020',\n",
       "       '28/05/2020', '27/05/2020', '26/05/2020', '25/05/2020',\n",
       "       '24/05/2020', '23/05/2020', '22/05/2020', '21/05/2020',\n",
       "       '20/05/2020', '19/05/2020', '18/05/2020', '17/05/2020',\n",
       "       '16/05/2020', '15/05/2020', '14/05/2020', '13/05/2020',\n",
       "       '12/05/2020', '11/05/2020', '10/05/2020', '09/05/2020',\n",
       "       '08/05/2020', '07/05/2020', '06/05/2020', '05/05/2020',\n",
       "       '04/05/2020', '03/05/2020', '02/05/2020', '01/05/2020',\n",
       "       '30/04/2020', '29/04/2020', '28/04/2020', '27/04/2020',\n",
       "       '26/04/2020', '25/04/2020', '24/04/2020', '23/04/2020',\n",
       "       '22/04/2020', '21/04/2020', '20/04/2020', '19/04/2020',\n",
       "       '18/04/2020', '17/04/2020', '16/04/2020', '15/04/2020',\n",
       "       '14/04/2020', '13/04/2020', '12/04/2020', '11/04/2020',\n",
       "       '10/04/2020', '09/04/2020', '08/04/2020', '07/04/2020',\n",
       "       '06/04/2020', '05/04/2020', '04/04/2020', '03/04/2020',\n",
       "       '02/04/2020', '01/04/2020', '31/03/2020', '30/03/2020',\n",
       "       '29/03/2020', '28/03/2020', '27/03/2020', '26/03/2020',\n",
       "       '25/03/2020', '24/03/2020', '23/03/2020', '22/03/2020',\n",
       "       '21/03/2020', '20/03/2020', '19/03/2020', '18/03/2020',\n",
       "       '17/03/2020', '16/03/2020', '15/03/2020', '11/03/2020',\n",
       "       '08/03/2020', '02/03/2020', '01/03/2020', '29/02/2020',\n",
       "       '28/02/2020', '27/02/2020', '26/02/2020', '25/02/2020',\n",
       "       '24/02/2020', '23/02/2020', '22/02/2020', '21/02/2020',\n",
       "       '20/02/2020', '19/02/2020', '18/02/2020', '17/02/2020',\n",
       "       '16/02/2020', '15/02/2020', '14/02/2020', '13/02/2020',\n",
       "       '12/02/2020', '11/02/2020', '10/02/2020', '09/02/2020',\n",
       "       '08/02/2020', '07/02/2020', '06/02/2020', '05/02/2020',\n",
       "       '04/02/2020', '03/02/2020', '02/02/2020', '01/02/2020',\n",
       "       '31/01/2020', '30/01/2020', '29/01/2020', '28/01/2020',\n",
       "       '27/01/2020', '26/01/2020', '25/01/2020', '24/01/2020',\n",
       "       '23/01/2020', '22/01/2020', '21/01/2020', '20/01/2020',\n",
       "       '19/01/2020', '18/01/2020', '17/01/2020', '16/01/2020',\n",
       "       '15/01/2020', '14/01/2020', '13/01/2020', '12/01/2020',\n",
       "       '11/01/2020', '10/01/2020', '09/01/2020', '08/01/2020',\n",
       "       '07/01/2020', '06/01/2020', '05/01/2020', '04/01/2020',\n",
       "       '03/01/2020', '02/01/2020', '01/01/2020', '31/12/2019',\n",
       "       '14/03/2020', '13/03/2020', '12/03/2020', '10/03/2020',\n",
       "       '09/03/2020', '06/03/2020', '05/03/2020', '04/03/2020',\n",
       "       '03/03/2020', '07/03/2020'], dtype=object)"
      ]
     },
     "execution_count": 8,
     "metadata": {},
     "output_type": "execute_result"
    }
   ],
   "source": [
    "cd.dateRep.unique()"
   ]
  },
  {
   "cell_type": "code",
   "execution_count": 9,
   "metadata": {},
   "outputs": [
    {
     "data": {
      "text/html": [
       "<div>\n",
       "<style scoped>\n",
       "    .dataframe tbody tr th:only-of-type {\n",
       "        vertical-align: middle;\n",
       "    }\n",
       "\n",
       "    .dataframe tbody tr th {\n",
       "        vertical-align: top;\n",
       "    }\n",
       "\n",
       "    .dataframe thead th {\n",
       "        text-align: right;\n",
       "    }\n",
       "</style>\n",
       "<table border=\"1\" class=\"dataframe\">\n",
       "  <thead>\n",
       "    <tr style=\"text-align: right;\">\n",
       "      <th></th>\n",
       "      <th>day</th>\n",
       "      <th>month</th>\n",
       "      <th>year</th>\n",
       "      <th>cases</th>\n",
       "      <th>deaths</th>\n",
       "      <th>popData2019</th>\n",
       "      <th>Cumulative_number_for_14_days_of_COVID-19_cases_per_100000</th>\n",
       "    </tr>\n",
       "  </thead>\n",
       "  <tbody>\n",
       "    <tr>\n",
       "      <th>count</th>\n",
       "      <td>61900.000000</td>\n",
       "      <td>61900.000000</td>\n",
       "      <td>61900.000000</td>\n",
       "      <td>61900.000000</td>\n",
       "      <td>61900.000000</td>\n",
       "      <td>6.177700e+04</td>\n",
       "      <td>59021.000000</td>\n",
       "    </tr>\n",
       "    <tr>\n",
       "      <th>mean</th>\n",
       "      <td>15.628934</td>\n",
       "      <td>7.067157</td>\n",
       "      <td>2019.998918</td>\n",
       "      <td>1155.147237</td>\n",
       "      <td>26.055460</td>\n",
       "      <td>4.098770e+07</td>\n",
       "      <td>66.320586</td>\n",
       "    </tr>\n",
       "    <tr>\n",
       "      <th>std</th>\n",
       "      <td>8.841582</td>\n",
       "      <td>2.954776</td>\n",
       "      <td>0.032882</td>\n",
       "      <td>6779.224479</td>\n",
       "      <td>131.227055</td>\n",
       "      <td>1.531294e+08</td>\n",
       "      <td>162.329240</td>\n",
       "    </tr>\n",
       "    <tr>\n",
       "      <th>min</th>\n",
       "      <td>1.000000</td>\n",
       "      <td>1.000000</td>\n",
       "      <td>2019.000000</td>\n",
       "      <td>-8261.000000</td>\n",
       "      <td>-1918.000000</td>\n",
       "      <td>8.150000e+02</td>\n",
       "      <td>-147.419587</td>\n",
       "    </tr>\n",
       "    <tr>\n",
       "      <th>25%</th>\n",
       "      <td>8.000000</td>\n",
       "      <td>5.000000</td>\n",
       "      <td>2020.000000</td>\n",
       "      <td>0.000000</td>\n",
       "      <td>0.000000</td>\n",
       "      <td>1.293120e+06</td>\n",
       "      <td>0.757526</td>\n",
       "    </tr>\n",
       "    <tr>\n",
       "      <th>50%</th>\n",
       "      <td>15.000000</td>\n",
       "      <td>7.000000</td>\n",
       "      <td>2020.000000</td>\n",
       "      <td>15.000000</td>\n",
       "      <td>0.000000</td>\n",
       "      <td>7.169456e+06</td>\n",
       "      <td>6.724045</td>\n",
       "    </tr>\n",
       "    <tr>\n",
       "      <th>75%</th>\n",
       "      <td>23.000000</td>\n",
       "      <td>10.000000</td>\n",
       "      <td>2020.000000</td>\n",
       "      <td>273.000000</td>\n",
       "      <td>4.000000</td>\n",
       "      <td>2.851583e+07</td>\n",
       "      <td>52.572719</td>\n",
       "    </tr>\n",
       "    <tr>\n",
       "      <th>max</th>\n",
       "      <td>31.000000</td>\n",
       "      <td>12.000000</td>\n",
       "      <td>2020.000000</td>\n",
       "      <td>234633.000000</td>\n",
       "      <td>4928.000000</td>\n",
       "      <td>1.433784e+09</td>\n",
       "      <td>1900.836210</td>\n",
       "    </tr>\n",
       "  </tbody>\n",
       "</table>\n",
       "</div>"
      ],
      "text/plain": [
       "                day         month          year          cases        deaths  \\\n",
       "count  61900.000000  61900.000000  61900.000000   61900.000000  61900.000000   \n",
       "mean      15.628934      7.067157   2019.998918    1155.147237     26.055460   \n",
       "std        8.841582      2.954776      0.032882    6779.224479    131.227055   \n",
       "min        1.000000      1.000000   2019.000000   -8261.000000  -1918.000000   \n",
       "25%        8.000000      5.000000   2020.000000       0.000000      0.000000   \n",
       "50%       15.000000      7.000000   2020.000000      15.000000      0.000000   \n",
       "75%       23.000000     10.000000   2020.000000     273.000000      4.000000   \n",
       "max       31.000000     12.000000   2020.000000  234633.000000   4928.000000   \n",
       "\n",
       "        popData2019  \\\n",
       "count  6.177700e+04   \n",
       "mean   4.098770e+07   \n",
       "std    1.531294e+08   \n",
       "min    8.150000e+02   \n",
       "25%    1.293120e+06   \n",
       "50%    7.169456e+06   \n",
       "75%    2.851583e+07   \n",
       "max    1.433784e+09   \n",
       "\n",
       "       Cumulative_number_for_14_days_of_COVID-19_cases_per_100000  \n",
       "count                                       59021.000000           \n",
       "mean                                           66.320586           \n",
       "std                                           162.329240           \n",
       "min                                          -147.419587           \n",
       "25%                                             0.757526           \n",
       "50%                                             6.724045           \n",
       "75%                                            52.572719           \n",
       "max                                          1900.836210           "
      ]
     },
     "execution_count": 9,
     "metadata": {},
     "output_type": "execute_result"
    }
   ],
   "source": [
    "cd.describe()"
   ]
  },
  {
   "cell_type": "code",
   "execution_count": 10,
   "metadata": {},
   "outputs": [
    {
     "name": "stdout",
     "output_type": "stream",
     "text": [
      "<class 'pandas.core.frame.DataFrame'>\n",
      "RangeIndex: 61900 entries, 0 to 61899\n",
      "Data columns (total 12 columns):\n",
      " #   Column                                                      Non-Null Count  Dtype  \n",
      "---  ------                                                      --------------  -----  \n",
      " 0   dateRep                                                     61900 non-null  object \n",
      " 1   day                                                         61900 non-null  int64  \n",
      " 2   month                                                       61900 non-null  int64  \n",
      " 3   year                                                        61900 non-null  int64  \n",
      " 4   cases                                                       61900 non-null  int64  \n",
      " 5   deaths                                                      61900 non-null  int64  \n",
      " 6   countriesAndTerritories                                     61900 non-null  object \n",
      " 7   geoId                                                       61625 non-null  object \n",
      " 8   countryterritoryCode                                        61777 non-null  object \n",
      " 9   popData2019                                                 61777 non-null  float64\n",
      " 10  continentExp                                                61900 non-null  object \n",
      " 11  Cumulative_number_for_14_days_of_COVID-19_cases_per_100000  59021 non-null  float64\n",
      "dtypes: float64(2), int64(5), object(5)\n",
      "memory usage: 5.7+ MB\n"
     ]
    }
   ],
   "source": [
    "cd.info()"
   ]
  },
  {
   "cell_type": "code",
   "execution_count": null,
   "metadata": {},
   "outputs": [],
   "source": [
    "# Research Question: "
   ]
  }
 ],
 "metadata": {
  "kernelspec": {
   "display_name": "Python 3",
   "language": "python",
   "name": "python3"
  },
  "language_info": {
   "codemirror_mode": {
    "name": "ipython",
    "version": 3
   },
   "file_extension": ".py",
   "mimetype": "text/x-python",
   "name": "python",
   "nbconvert_exporter": "python",
   "pygments_lexer": "ipython3",
   "version": "3.8.5"
  }
 },
 "nbformat": 4,
 "nbformat_minor": 4
}
