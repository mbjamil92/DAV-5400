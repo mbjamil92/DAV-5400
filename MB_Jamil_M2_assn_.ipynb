{
 "cells": [
  {
   "cell_type": "markdown",
   "metadata": {},
   "source": [
    "# Module#2 Assignment (List Comprehensions, Data Structures, and Functions)"
   ]
  },
  {
   "cell_type": "markdown",
   "metadata": {},
   "source": [
    "### Submitted by : Muhammad Bilal Jamil (mjamil@mail.yu.edu)\n",
    "### Submitted to : Prof. Topor"
   ]
  },
  {
   "cell_type": "markdown",
   "metadata": {},
   "source": [
    "### Prework:-\n",
    "> Creating 7 lists prior to doing more analysis:"
   ]
  },
  {
   "cell_type": "code",
   "execution_count": 5,
   "metadata": {},
   "outputs": [
    {
     "name": "stdout",
     "output_type": "stream",
     "text": [
      "        0      1      2     3      4     5      6\n",
      "0    high   high      2     4    med   low  unacc\n",
      "1    high   high      4  more  small  high    acc\n",
      "2    high   high      4  more    big   low  unacc\n",
      "3    high    low      2  more    big  high    acc\n",
      "4   vhigh    low      3     2    med   med  unacc\n",
      "5     low   high      2     2  small   low  unacc\n",
      "6     med    med      4  more    med  high  vgood\n",
      "7     low    low      3     2    big   med  unacc\n",
      "8   vhigh    low      2     2  small   low  unacc\n",
      "9   vhigh   high      4     4    med   low  unacc\n",
      "10    low    low      2     2    med   med  unacc\n",
      "11  vhigh    low      4  more  small  high    acc\n",
      "12   high    low      2     4    big   med    acc\n",
      "13    low  vhigh      3  more    big   low  unacc\n",
      "14   high    low  5more     2    big   med  unacc\n",
      "15  vhigh   high      2  more    med  high  unacc\n",
      "16    med    med      2     2  small   low  unacc\n",
      "17   high    low  5more     4    med  high    acc\n",
      "18    low    low      3  more    med  high  vgood\n",
      "19    low    low      2     2    big   med  unacc\n",
      "20    med   high      4     2    big  high  unacc\n",
      "21    low    low      2     2  small  high  unacc\n",
      "22  vhigh   high  5more     4    med   med  unacc\n",
      "23    med  vhigh      2     2    big   low  unacc\n",
      "24    low  vhigh      4     4    big   low  unacc\n",
      "25  vhigh    low      3  more    big   low  unacc\n",
      "26    med  vhigh      3     4  small   low  unacc\n",
      "27   high   high      3     4    med   med  unacc\n",
      "28    low   high  5more     2    big   low  unacc\n",
      "29    med   high  5more     2    med   med  unacc\n",
      "30   high    low      3     4    med  high    acc\n",
      "31   high  vhigh  5more     4    med   med  unacc\n",
      "32    low    low  5more     2    med   low  unacc\n",
      "33  vhigh  vhigh      4     2    big  high  unacc\n",
      "34   high    low      3     2    big  high  unacc\n"
     ]
    }
   ],
   "source": [
    "# Importing car sample dataset via upload from files:\n",
    "# Importing pandas for reading the file\n",
    "# Since the csv file doesn't have any header, I don't want pandas to pick the first row as header, so I made 'header=none'\n",
    "# So that pandas know not to pick the first row as header:\n",
    "\n",
    "import pandas as pd\n",
    "df = pd.read_csv('cars-sample35.txt', header=None)\n",
    "print(df)"
   ]
  },
  {
   "cell_type": "code",
   "execution_count": 7,
   "metadata": {},
   "outputs": [
    {
     "data": {
      "text/plain": [
       "35"
      ]
     },
     "execution_count": 7,
     "metadata": {},
     "output_type": "execute_result"
    }
   ],
   "source": [
    "##checking if the dataframe contains all the total elements from the csv file:\n",
    "len(df)"
   ]
  },
  {
   "cell_type": "code",
   "execution_count": 8,
   "metadata": {},
   "outputs": [
    {
     "name": "stdout",
     "output_type": "stream",
     "text": [
      "['high', 'high', 'high', 'high', 'vhigh', 'low', 'med', 'low', 'vhigh', 'vhigh', 'low', 'vhigh', 'high', 'low', 'high', 'vhigh', 'med', 'high', 'low', 'low', 'med', 'low', 'vhigh', 'med', 'low', 'vhigh', 'med', 'high', 'low', 'med', 'high', 'high', 'low', 'vhigh', 'high']\n"
     ]
    }
   ],
   "source": [
    "# Now, we would be creating 7 columns for every attribute from the csv just like last week:-\n",
    "\n",
    "# Creating 1st column of price:\n",
    "price = list(df.iloc[:,0])\n",
    "print(price)"
   ]
  },
  {
   "cell_type": "code",
   "execution_count": 10,
   "metadata": {},
   "outputs": [
    {
     "name": "stdout",
     "output_type": "stream",
     "text": [
      "['high', 'high', 'high', 'low', 'low', 'high', 'med', 'low', 'low', 'high', 'low', 'low', 'low', 'vhigh', 'low', 'high', 'med', 'low', 'low', 'low', 'high', 'low', 'high', 'vhigh', 'vhigh', 'low', 'vhigh', 'high', 'high', 'high', 'low', 'vhigh', 'low', 'vhigh', 'low']\n"
     ]
    }
   ],
   "source": [
    "# Creating 2nd column of maintenance_cost:\n",
    "maintenance_cost = list(df.iloc[:,1])\n",
    "print(maintenance_cost)"
   ]
  },
  {
   "cell_type": "code",
   "execution_count": 11,
   "metadata": {},
   "outputs": [
    {
     "name": "stdout",
     "output_type": "stream",
     "text": [
      "['2', '4', '4', '2', '3', '2', '4', '3', '2', '4', '2', '4', '2', '3', '5more', '2', '2', '5more', '3', '2', '4', '2', '5more', '2', '4', '3', '3', '3', '5more', '5more', '3', '5more', '5more', '4', '3']\n"
     ]
    }
   ],
   "source": [
    "# Creating 3rd column of number_of_doors:\n",
    "number_of_doors = list(df.iloc[:,2])\n",
    "print(number_of_doors)"
   ]
  },
  {
   "cell_type": "code",
   "execution_count": 12,
   "metadata": {},
   "outputs": [
    {
     "name": "stdout",
     "output_type": "stream",
     "text": [
      "['4', 'more', 'more', 'more', '2', '2', 'more', '2', '2', '4', '2', 'more', '4', 'more', '2', 'more', '2', '4', 'more', '2', '2', '2', '4', '2', '4', 'more', '4', '4', '2', '2', '4', '4', '2', '2', '2']\n"
     ]
    }
   ],
   "source": [
    "# Creating 4th column of number_of_passengers:\n",
    "number_of_passengers = list(df.iloc[:,3])\n",
    "print(number_of_passengers)"
   ]
  },
  {
   "cell_type": "code",
   "execution_count": 13,
   "metadata": {},
   "outputs": [
    {
     "name": "stdout",
     "output_type": "stream",
     "text": [
      "['med', 'small', 'big', 'big', 'med', 'small', 'med', 'big', 'small', 'med', 'med', 'small', 'big', 'big', 'big', 'med', 'small', 'med', 'med', 'big', 'big', 'small', 'med', 'big', 'big', 'big', 'small', 'med', 'big', 'med', 'med', 'med', 'med', 'big', 'big']\n"
     ]
    }
   ],
   "source": [
    "# Creating 5th column of luggage_capacity:\n",
    "luggage_capacity = list(df.iloc[:,4])\n",
    "print(luggage_capacity)"
   ]
  },
  {
   "cell_type": "code",
   "execution_count": 14,
   "metadata": {},
   "outputs": [
    {
     "name": "stdout",
     "output_type": "stream",
     "text": [
      "['low', 'high', 'low', 'high', 'med', 'low', 'high', 'med', 'low', 'low', 'med', 'high', 'med', 'low', 'med', 'high', 'low', 'high', 'high', 'med', 'high', 'high', 'med', 'low', 'low', 'low', 'low', 'med', 'low', 'med', 'high', 'med', 'low', 'high', 'high']\n"
     ]
    }
   ],
   "source": [
    "# Creating 6th column of safety_rating:\n",
    "safety_rating = list(df.iloc[:,5])\n",
    "print(safety_rating)"
   ]
  },
  {
   "cell_type": "code",
   "execution_count": 15,
   "metadata": {},
   "outputs": [
    {
     "name": "stdout",
     "output_type": "stream",
     "text": [
      "['unacc', 'acc', 'unacc', 'acc', 'unacc', 'unacc', 'vgood', 'unacc', 'unacc', 'unacc', 'unacc', 'acc', 'acc', 'unacc', 'unacc', 'unacc', 'unacc', 'acc', 'vgood', 'unacc', 'unacc', 'unacc', 'unacc', 'unacc', 'unacc', 'unacc', 'unacc', 'unacc', 'unacc', 'unacc', 'acc', 'unacc', 'unacc', 'unacc', 'unacc']\n"
     ]
    }
   ],
   "source": [
    "# Creating 7th of classification_of_vehicle:\n",
    "classification_of_vehicle = list(df.iloc[:,6])\n",
    "print(classification_of_vehicle)"
   ]
  },
  {
   "cell_type": "markdown",
   "metadata": {},
   "source": [
    "###### Q1) \n",
    "(5 Points) Your first task is to find the list index values of each automobile having a price rating of \"med\". However, you are required to do this using a list comprehension instead of a basic for or while loop. The list comprehension should create a new list containing your result. Be sure to print your results to the screen.\n"
   ]
  },
  {
   "cell_type": "code",
   "execution_count": 53,
   "metadata": {},
   "outputs": [
    {
     "name": "stdout",
     "output_type": "stream",
     "text": [
      "The list where auto has a med price is: [6, 16, 20, 23, 26, 29]\n"
     ]
    }
   ],
   "source": [
    "# I am creating a new list called 'med_list' where I am storing index values from an already existing list 'price' where \n",
    "# price rating is 'med', using for loops for this analysis:\n",
    "\n",
    "med_list = [i for i in range(len(price)) if price[i] == 'med']\n",
    "print('The list where auto has a med price is:',med_list)"
   ]
  },
  {
   "cell_type": "markdown",
   "metadata": {},
   "source": [
    "###### Q2) \n",
    "(5 Points) Your second task is to find the \"number of passengers\" value for each auto having a \"price\" value of \"med\" using a list comprehension instead of a basic for or while loop. The list comprehension should create a new list containing your findings. Be sure to print your results to the screen."
   ]
  },
  {
   "cell_type": "code",
   "execution_count": 54,
   "metadata": {},
   "outputs": [
    {
     "name": "stdout",
     "output_type": "stream",
     "text": [
      "The list with the number of passengers where auto has a med price is: ['more', '2', '2', '2', '4', '2']\n"
     ]
    }
   ],
   "source": [
    "# For this analysis, I created a new list called 'pass_list' I am over here using the list 'number_of_passengers'\n",
    "# to find the number of passsengers and using list 'med_list' since it stores the mediums value indexes:\n",
    "\n",
    "pass_list = [number_of_passengers[j] for j in med_list]\n",
    "print('The list with the number of passengers where auto has a med price is:',pass_list)"
   ]
  },
  {
   "cell_type": "markdown",
   "metadata": {},
   "source": [
    "#### Q3)\n",
    "(5 Points) Your third task is to find the index value for each automobile having a price value of \"high\" and a maintenance value that is not \"low\" using a list comprehension. The list comprehension should create a new list containing your findings. Be sure to print your results to the screen."
   ]
  },
  {
   "cell_type": "code",
   "execution_count": 55,
   "metadata": {},
   "outputs": [
    {
     "name": "stdout",
     "output_type": "stream",
     "text": [
      "The index values for each automobile where price is high and maintenance value is not low are: [0, 1, 2, 27, 31]\n"
     ]
    }
   ],
   "source": [
    "# For this question, I am again using for loops to filter the 'price' list where 'price' is 'high' and where 'maintenance' \n",
    "# is not low, I then store that result in a new list called 'high_price':\n",
    "\n",
    "high_price = [i for i in range(len(price)) if price[i]=='high'and maintenance_cost[i] != 'low']\n",
    "print('The index values for each automobile where price is high and maintenance value is not low are:',high_price)"
   ]
  },
  {
   "cell_type": "markdown",
   "metadata": {},
   "source": [
    "### Q4)\n",
    "Consider the following list of lists:\n",
    "nlist = [ [1, 2, 3], [‘A’, ‘B’, ‘C’], [4, 5], [‘D’, ‘E’] ]\n",
    "if we wanted to extract each individual element of the component lists contained within nlist and add them to a new list, we could use a nested for loop similar to this:\n",
    "flist = []\n",
    "for x in nlist:\n",
    "for y in x:\n",
    "flist.append(y)\n",
    "print(flist)\n",
    "--------\n",
    "(5 Points) For your fourth task, implement this same logic using a list comprehension. Apply your list comprehension to the nlist list of lists shown above. Be sure to print your newly created list to the screen."
   ]
  },
  {
   "cell_type": "code",
   "execution_count": 75,
   "metadata": {},
   "outputs": [
    {
     "name": "stdout",
     "output_type": "stream",
     "text": [
      "[1, 2, 3, 'A', 'B', 'C', 4, 5, 'D', 'E']\n"
     ]
    }
   ],
   "source": [
    "# Using the nlist which is given:\n",
    "nlist = [[1, 2, 3], ['A', 'B', 'C'], [4, 5], ['D', 'E']]\n",
    "\n",
    "# Now what I will do is that I will use for loops to loop over each element in the nlist and then append it to flist:\n",
    "# This is done using list comprehensions.\n",
    "\n",
    "flist = [i for j in nlist for i in j]\n",
    "print(flist)"
   ]
  },
  {
   "cell_type": "markdown",
   "metadata": {},
   "source": [
    "### Q5)\n",
    "(5 Points) Your fifth task is to create a user defined function that accepts as input one of the seven automobile attribute lists as well as an integer value and returns a Python dict object. Remember: a Python dict object is comprised of ‘key/value’ pairs. The integer value accepted as a parameter by your function will represent the exact number of items you are to use from the list for purposes of creating the new dict object."
   ]
  },
  {
   "cell_type": "code",
   "execution_count": 76,
   "metadata": {},
   "outputs": [
    {
     "data": {
      "text/plain": [
       "35"
      ]
     },
     "execution_count": 76,
     "metadata": {},
     "output_type": "execute_result"
    }
   ],
   "source": [
    "len(safety_rating)"
   ]
  },
  {
   "cell_type": "code",
   "execution_count": 168,
   "metadata": {},
   "outputs": [],
   "source": [
    "'''Making a function 'makedict' which is taking a list 'mylist' and a variable 'x' which will be an integer. What this \n",
    "function will do is that it will x times loop over the 'list' mylist. Each time the loop is performed, it enters A +(concats) \n",
    "the current index i.e. 'i' and the value of the mylist item. Together this will form a 'key/value' pair dict,\n",
    "which will be called as 'newdict'. This will keep happening till the 'x' variable is smaller than the length of 'mylist' \n",
    "when 'x' will be greater than the length of 'mylist' then it will raise an error. ''' \n",
    "\n",
    "\n",
    "# This makedict funtion has 2 paramets as explained above, Also, created a dictionary  newdict' \n",
    "# which will save the required key/value pairs: \n",
    "\n",
    "def makedict(mylist,x):\n",
    "    newdict = {}\n",
    "     \n",
    "# Here using a foor loop to loop on the taken variable 'x' and checking if its bigger than the length of the list\n",
    "# Then to give an error using the 'ValueError' keyword, if not then execute the loop successfully:\n",
    "\n",
    "    for i in range(x):\n",
    "        if x>len(mylist):\n",
    "            raise ValueError('The number you entered is greater than the length of list, please enter a number lower than 36')\n",
    "            \n",
    "        else:\n",
    "            newdict['A'+ str(i)] = mylist[i]\n",
    "    return(newdict)"
   ]
  },
  {
   "cell_type": "code",
   "execution_count": 169,
   "metadata": {},
   "outputs": [],
   "source": [
    "#Testing our new function in some action to check if it runs correctly:\n",
    "pricefunc = makedict(price,10)"
   ]
  },
  {
   "cell_type": "code",
   "execution_count": 170,
   "metadata": {},
   "outputs": [
    {
     "data": {
      "text/plain": [
       "{'A0': 'high',\n",
       " 'A1': 'high',\n",
       " 'A2': 'high',\n",
       " 'A3': 'high',\n",
       " 'A4': 'vhigh',\n",
       " 'A5': 'low',\n",
       " 'A6': 'med',\n",
       " 'A7': 'low',\n",
       " 'A8': 'vhigh',\n",
       " 'A9': 'vhigh'}"
      ]
     },
     "execution_count": 170,
     "metadata": {},
     "output_type": "execute_result"
    }
   ],
   "source": [
    "pricefunc"
   ]
  },
  {
   "cell_type": "code",
   "execution_count": 173,
   "metadata": {},
   "outputs": [
    {
     "ename": "ValueError",
     "evalue": "The number you entered is greater than the length of list, please enter a number lower than 36",
     "output_type": "error",
     "traceback": [
      "\u001b[1;31m---------------------------------------------------------------------------\u001b[0m",
      "\u001b[1;31mValueError\u001b[0m                                Traceback (most recent call last)",
      "\u001b[1;32m<ipython-input-173-c5c220bf33c5>\u001b[0m in \u001b[0;36m<module>\u001b[1;34m\u001b[0m\n\u001b[0;32m      1\u001b[0m \u001b[1;31m# It ran correctly, now let's try to enter a big value and see what happens by creating a new dict'testing_big' :-\u001b[0m\u001b[1;33m\u001b[0m\u001b[1;33m\u001b[0m\u001b[1;33m\u001b[0m\u001b[0m\n\u001b[1;32m----> 2\u001b[1;33m \u001b[0mtesting_big\u001b[0m \u001b[1;33m=\u001b[0m \u001b[0mmakedict\u001b[0m\u001b[1;33m(\u001b[0m\u001b[0msafety_rating\u001b[0m\u001b[1;33m,\u001b[0m\u001b[1;36m36\u001b[0m\u001b[1;33m)\u001b[0m\u001b[1;33m\u001b[0m\u001b[1;33m\u001b[0m\u001b[0m\n\u001b[0m",
      "\u001b[1;32m<ipython-input-168-06041697d22c>\u001b[0m in \u001b[0;36mmakedict\u001b[1;34m(mylist, x)\u001b[0m\n\u001b[0;32m     17\u001b[0m     \u001b[1;32mfor\u001b[0m \u001b[0mi\u001b[0m \u001b[1;32min\u001b[0m \u001b[0mrange\u001b[0m\u001b[1;33m(\u001b[0m\u001b[0mx\u001b[0m\u001b[1;33m)\u001b[0m\u001b[1;33m:\u001b[0m\u001b[1;33m\u001b[0m\u001b[1;33m\u001b[0m\u001b[0m\n\u001b[0;32m     18\u001b[0m         \u001b[1;32mif\u001b[0m \u001b[0mx\u001b[0m\u001b[1;33m>\u001b[0m\u001b[0mlen\u001b[0m\u001b[1;33m(\u001b[0m\u001b[0mmylist\u001b[0m\u001b[1;33m)\u001b[0m\u001b[1;33m:\u001b[0m\u001b[1;33m\u001b[0m\u001b[1;33m\u001b[0m\u001b[0m\n\u001b[1;32m---> 19\u001b[1;33m             \u001b[1;32mraise\u001b[0m \u001b[0mValueError\u001b[0m\u001b[1;33m(\u001b[0m\u001b[1;34m'The number you entered is greater than the length of list, please enter a number lower than 36'\u001b[0m\u001b[1;33m)\u001b[0m\u001b[1;33m\u001b[0m\u001b[1;33m\u001b[0m\u001b[0m\n\u001b[0m\u001b[0;32m     20\u001b[0m \u001b[1;33m\u001b[0m\u001b[0m\n\u001b[0;32m     21\u001b[0m         \u001b[1;32melse\u001b[0m\u001b[1;33m:\u001b[0m\u001b[1;33m\u001b[0m\u001b[1;33m\u001b[0m\u001b[0m\n",
      "\u001b[1;31mValueError\u001b[0m: The number you entered is greater than the length of list, please enter a number lower than 36"
     ]
    }
   ],
   "source": [
    "# It ran correctly, now let's try to enter a big value and see what happens by creating a new dict'testing_big' :-\n",
    "testing_big = makedict(safety_rating,36)"
   ]
  },
  {
   "cell_type": "code",
   "execution_count": 174,
   "metadata": {},
   "outputs": [],
   "source": [
    "# Hence, you can see that it gave an error when I entered a number bigger than '35'."
   ]
  },
  {
   "cell_type": "markdown",
   "metadata": {},
   "source": [
    "### Q4):\n",
    "(5 Points) Now that you have your reusable user-defined function, use it to create two new dict objects containing the first seven elements of the ‘Price’ and ‘Luggage’ lists, respectively. Then, use these dict objects to tell us the price and luggage capacity of the auto identified by the ‘A4’ key value."
   ]
  },
  {
   "cell_type": "code",
   "execution_count": 176,
   "metadata": {},
   "outputs": [
    {
     "name": "stdout",
     "output_type": "stream",
     "text": [
      "The first seven elements from the price list are: {'A0': 'high', 'A1': 'high', 'A2': 'high', 'A3': 'high', 'A4': 'vhigh', 'A5': 'low', 'A6': 'med'}\n"
     ]
    }
   ],
   "source": [
    "# Now in the previous question, we were able to successfully create a function 'makedict', now we will use this function\n",
    "# To make 2 new dicts to copy the first 7 elements from the 'price' and 'luggage' lists. let's start:\n",
    "\n",
    "# Creating 1st dictionary called 'price_dict' using the 'price' list which we created in the pre-work:\n",
    "\n",
    "price_dict = makedict(price, 7)\n",
    "print('The first seven elements from the price list are:', price_dict)"
   ]
  },
  {
   "cell_type": "code",
   "execution_count": 177,
   "metadata": {},
   "outputs": [
    {
     "name": "stdout",
     "output_type": "stream",
     "text": [
      "The first seven elements from the luggage list are: {'A0': 'med', 'A1': 'small', 'A2': 'big', 'A3': 'big', 'A4': 'med', 'A5': 'small', 'A6': 'med'}\n"
     ]
    }
   ],
   "source": [
    "# Now Let's create the second dictionary called 'luggage_dict' using the 'luggage_dict' list which we created in the pre-work:\n",
    "\n",
    "luggage_dict = makedict(luggage_capacity,7)\n",
    "print('The first seven elements from the luggage list are:', luggage_dict)"
   ]
  },
  {
   "cell_type": "code",
   "execution_count": 185,
   "metadata": {},
   "outputs": [
    {
     "name": "stdout",
     "output_type": "stream",
     "text": [
      "The value of the 'A4' key in price_dict is: vhigh\n",
      "The value of the 'A4' key in luggage_dict is: med\n"
     ]
    }
   ],
   "source": [
    "# Now checking the 2nd part of the question which is to display the key value of 'A4':\n",
    "print(\"The value of the 'A4' key in price_dict is:\",price_dict['A4'])\n",
    "print(\"The value of the 'A4' key in luggage_dict is:\",luggage_dict['A4'])"
   ]
  },
  {
   "cell_type": "markdown",
   "metadata": {},
   "source": [
    "## Citations:\n",
    "\n",
    "* https://www.edureka.co/community/42836/how-to-read-pandas-csv-file-with-no-header\n",
    "* https://pandas.pydata.org/pandas-docs/stable/reference/api/pandas.read_csv.html\n",
    "* https://realpython.com/list-comprehension-python/\n",
    "* https://www.geeksforgeeks.org/nested-list-comprehensions-in-python/\n",
    "* https://codefellows.github.io/sea-f2-python-sept14/session05.html\n",
    "* https://stackoverflow.com/questions/4326658/how-to-index-into-a-dictionary\n",
    "* https://docs.python.org/3/tutorial/datastructures.html"
   ]
  }
 ],
 "metadata": {
  "kernelspec": {
   "display_name": "Python 3",
   "language": "python",
   "name": "python3"
  },
  "language_info": {
   "codemirror_mode": {
    "name": "ipython",
    "version": 3
   },
   "file_extension": ".py",
   "mimetype": "text/x-python",
   "name": "python",
   "nbconvert_exporter": "python",
   "pygments_lexer": "ipython3",
   "version": "3.8.5"
  }
 },
 "nbformat": 4,
 "nbformat_minor": 4
}
