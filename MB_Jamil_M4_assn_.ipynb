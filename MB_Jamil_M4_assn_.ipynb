{
 "cells": [
  {
   "cell_type": "markdown",
   "metadata": {},
   "source": [
    "# Module#4 Assignment (Using Pandas to Analyze Flight Data)"
   ]
  },
  {
   "cell_type": "markdown",
   "metadata": {},
   "source": [
    "### Submitted by : Muhammad Bilal Jamil (mjamil@mail.yu.edu)\n",
    "### Submitted to : Prof. Topor"
   ]
  },
  {
   "cell_type": "markdown",
   "metadata": {},
   "source": [
    "# Question) :\n",
    "\n",
    "This assignment will allow you to demonstrate your ability to: \n",
    "\n",
    "(1) make use of Python’s Pandas library; \n",
    "\n",
    "(2) add, remove and transform data within a data frame; and \n",
    "\n",
    "(3) generate basic summary statistics and graphics as part of your exploratory data analysis work.\n",
    "\n",
    "The data set we’ll be using is a 20,000 row subset of the hflights package provided within the R programming language and sourced originally from the US Bureau of Transportation Statistics:\n",
    "https://www.transtats.bts.gov/DatabaseInfo.asp?DB_ID=120&Link=0\n",
    "\n",
    "The data set contains information and metrics for commercial domestic (USA) airline flights that departed from 2 separate airports located in Houston, TX (IAH and HOU) during the 2011 calendar year.\n",
    "A summary / description of the data set can be found here:\n",
    "https://cran.r-project.org/web/packages/hflights/hflights.pdf\n",
    "\n",
    "After reviewing the data, you should define at least one interesting research / analytical questions you will seek to answer using the data. When formulating your questions, be sure to think about who would care about the answer to the questions and how they might make use of the results of your analysis. Provide a short written narrative that explains your justification for your questions using formatted Markdown cells in your Jupyter notebook . Use the research questions you formulate to guide your work throughout this Project.\n",
    "\n",
    "Once you’ve loaded the data set, you should perform some basic transformations on the data frame. For example, you might decide to make use of only a particular subset of the provided attributes as you work to answer the analytical questions you’ve defined. If so, you might choose to simplify the data frame by subsetting only those attributes you plan to make use of, or rename any column names you find confusing\n",
    "\n",
    "You might also choose to create one or more new columns within the data frame by creating new attributes you derive via calculations based on the original data (e.g., ‘flight date’, etc.), or perhaps filter out certain rows of the data frame based on the requirements of the research questions you’ve chosen to answer. Be sure to provide a written narrative using formatted Markdown cells in your Jupyter notebook explaining any transformations you have chosen to make to the data set.\n",
    "\n",
    "You should then perform some preliminary data analysis, including the generation of basic summary statistics and basic Pandas graphics (e.g., histograms or box plots or scatter plots as appropriate) for the attributes you have elected to work with for purposes of answering your research questions and provide a written narrative using formatted Markdown cells in your Jupyter notebook that explains your exploratory data analysis to a reader of your research, \n",
    "\n",
    "e.g., “the summary statistics for the ___variable indicate right skew in the variable’s distribution, as evidenced by .. ”, etc.\n",
    "\n",
    "\n",
    "Once you’ve completed your exploratory data analysis, answer the research questions you’ve defined, making use of descriptive and summary statistics as well as basic Pandas DataFrame graphics where appropriate. Be sure to include a narrative using formatted Markdown cells in your Jupyter notebook describing your approach to answering each of your research questions.\n",
    "Your deliverable for this Assignment is your Jupyter Notebook. It should contain a combination of Python code cells and explanatory narratives contained within properly formatted Markdown cells. The Notebook should contain (at a minimum) the following sections (including the relevant Python code for each section):\n",
    "\n",
    "> * Introduction (5 Points): Describe your research questions and summarize the steps you plan to take to answer each of the questions.\n",
    "> *  Data Preparation (5 Points): Explain + present your data transformation work, e.g., have you renamed any columns within the data frame?; have you elected to make use of only a subset of the data?; have any new columns been created via calculations you have applied to the original data?; etc. This section should include any Python code used for such purposes.\n",
    "> *  Preliminary Data Analysis (10 Points): Explain + present your preliminary analysis work including any conclusions you draw from your analysis. This section should include any Python code used for the analysis.\n",
    "> * Research Results (10 Points): Explain + present your answers to your research questions, including any Python code used as part of that process.\n",
    "\n"
   ]
  },
  {
   "cell_type": "markdown",
   "metadata": {},
   "source": [
    "# Answer:"
   ]
  },
  {
   "cell_type": "markdown",
   "metadata": {},
   "source": [
    "### Index:\n",
    "\n",
    "#### 1. Initial Data Analysis:\n",
    "#### 2. Introduction\n",
    "#### 3. Data Preparation\n",
    "#### 4. Preliminary Data Analysis\n",
    "#### 5. Research Results\n",
    "#### 6. Conclusion\n"
   ]
  },
  {
   "cell_type": "markdown",
   "metadata": {},
   "source": [
    "### 1. Initial Data Analysis:"
   ]
  },
  {
   "cell_type": "code",
   "execution_count": 4,
   "metadata": {},
   "outputs": [],
   "source": [
    "# Importing pandas and numpy library to do data analysis.\n",
    "# We are also reading the transportation dataset from GitHub\n",
    "import pandas as pd\n",
    "import numpy as np\n",
    "hflights_orgfile = 'https://raw.githubusercontent.com/jtopor/DAV-5400/master/Project1/hflights.csv'\n",
    "hflights_df = pd.read_csv(hflights_orgfile)\n",
    "# Dataset is now stored in the pandas dataframe"
   ]
  },
  {
   "cell_type": "markdown",
   "metadata": {},
   "source": [
    "Before we do any detailed analysis, it is very important to first understand the data and what it means. I will try to accomplish this by viewing the head and the tail of the dataset as well as read the dataset's description and information. This will be a very crucial step to come up with our research question and what strategy should be used to answer them."
   ]
  },
  {
   "cell_type": "code",
   "execution_count": 6,
   "metadata": {},
   "outputs": [
    {
     "data": {
      "text/html": [
       "<div>\n",
       "<style scoped>\n",
       "    .dataframe tbody tr th:only-of-type {\n",
       "        vertical-align: middle;\n",
       "    }\n",
       "\n",
       "    .dataframe tbody tr th {\n",
       "        vertical-align: top;\n",
       "    }\n",
       "\n",
       "    .dataframe thead th {\n",
       "        text-align: right;\n",
       "    }\n",
       "</style>\n",
       "<table border=\"1\" class=\"dataframe\">\n",
       "  <thead>\n",
       "    <tr style=\"text-align: right;\">\n",
       "      <th></th>\n",
       "      <th>Year</th>\n",
       "      <th>Month</th>\n",
       "      <th>DayofMonth</th>\n",
       "      <th>DayOfWeek</th>\n",
       "      <th>DepTime</th>\n",
       "      <th>ArrTime</th>\n",
       "      <th>UniqueCarrier</th>\n",
       "      <th>FlightNum</th>\n",
       "      <th>TailNum</th>\n",
       "      <th>ActualElapsedTime</th>\n",
       "      <th>...</th>\n",
       "      <th>ArrDelay</th>\n",
       "      <th>DepDelay</th>\n",
       "      <th>Origin</th>\n",
       "      <th>Dest</th>\n",
       "      <th>Distance</th>\n",
       "      <th>TaxiIn</th>\n",
       "      <th>TaxiOut</th>\n",
       "      <th>Cancelled</th>\n",
       "      <th>CancellationCode</th>\n",
       "      <th>Diverted</th>\n",
       "    </tr>\n",
       "  </thead>\n",
       "  <tbody>\n",
       "    <tr>\n",
       "      <th>0</th>\n",
       "      <td>2011</td>\n",
       "      <td>1</td>\n",
       "      <td>1</td>\n",
       "      <td>6</td>\n",
       "      <td>1400.0</td>\n",
       "      <td>1500.0</td>\n",
       "      <td>AA</td>\n",
       "      <td>428</td>\n",
       "      <td>N576AA</td>\n",
       "      <td>60.0</td>\n",
       "      <td>...</td>\n",
       "      <td>-10.0</td>\n",
       "      <td>0.0</td>\n",
       "      <td>IAH</td>\n",
       "      <td>DFW</td>\n",
       "      <td>224</td>\n",
       "      <td>7.0</td>\n",
       "      <td>13.0</td>\n",
       "      <td>0</td>\n",
       "      <td>NaN</td>\n",
       "      <td>0</td>\n",
       "    </tr>\n",
       "    <tr>\n",
       "      <th>1</th>\n",
       "      <td>2011</td>\n",
       "      <td>1</td>\n",
       "      <td>2</td>\n",
       "      <td>7</td>\n",
       "      <td>1401.0</td>\n",
       "      <td>1501.0</td>\n",
       "      <td>AA</td>\n",
       "      <td>428</td>\n",
       "      <td>N557AA</td>\n",
       "      <td>60.0</td>\n",
       "      <td>...</td>\n",
       "      <td>-9.0</td>\n",
       "      <td>1.0</td>\n",
       "      <td>IAH</td>\n",
       "      <td>DFW</td>\n",
       "      <td>224</td>\n",
       "      <td>6.0</td>\n",
       "      <td>9.0</td>\n",
       "      <td>0</td>\n",
       "      <td>NaN</td>\n",
       "      <td>0</td>\n",
       "    </tr>\n",
       "    <tr>\n",
       "      <th>2</th>\n",
       "      <td>2011</td>\n",
       "      <td>1</td>\n",
       "      <td>3</td>\n",
       "      <td>1</td>\n",
       "      <td>1352.0</td>\n",
       "      <td>1502.0</td>\n",
       "      <td>AA</td>\n",
       "      <td>428</td>\n",
       "      <td>N541AA</td>\n",
       "      <td>70.0</td>\n",
       "      <td>...</td>\n",
       "      <td>-8.0</td>\n",
       "      <td>-8.0</td>\n",
       "      <td>IAH</td>\n",
       "      <td>DFW</td>\n",
       "      <td>224</td>\n",
       "      <td>5.0</td>\n",
       "      <td>17.0</td>\n",
       "      <td>0</td>\n",
       "      <td>NaN</td>\n",
       "      <td>0</td>\n",
       "    </tr>\n",
       "    <tr>\n",
       "      <th>3</th>\n",
       "      <td>2011</td>\n",
       "      <td>1</td>\n",
       "      <td>4</td>\n",
       "      <td>2</td>\n",
       "      <td>1403.0</td>\n",
       "      <td>1513.0</td>\n",
       "      <td>AA</td>\n",
       "      <td>428</td>\n",
       "      <td>N403AA</td>\n",
       "      <td>70.0</td>\n",
       "      <td>...</td>\n",
       "      <td>3.0</td>\n",
       "      <td>3.0</td>\n",
       "      <td>IAH</td>\n",
       "      <td>DFW</td>\n",
       "      <td>224</td>\n",
       "      <td>9.0</td>\n",
       "      <td>22.0</td>\n",
       "      <td>0</td>\n",
       "      <td>NaN</td>\n",
       "      <td>0</td>\n",
       "    </tr>\n",
       "    <tr>\n",
       "      <th>4</th>\n",
       "      <td>2011</td>\n",
       "      <td>1</td>\n",
       "      <td>5</td>\n",
       "      <td>3</td>\n",
       "      <td>1405.0</td>\n",
       "      <td>1507.0</td>\n",
       "      <td>AA</td>\n",
       "      <td>428</td>\n",
       "      <td>N492AA</td>\n",
       "      <td>62.0</td>\n",
       "      <td>...</td>\n",
       "      <td>-3.0</td>\n",
       "      <td>5.0</td>\n",
       "      <td>IAH</td>\n",
       "      <td>DFW</td>\n",
       "      <td>224</td>\n",
       "      <td>9.0</td>\n",
       "      <td>9.0</td>\n",
       "      <td>0</td>\n",
       "      <td>NaN</td>\n",
       "      <td>0</td>\n",
       "    </tr>\n",
       "  </tbody>\n",
       "</table>\n",
       "<p>5 rows × 21 columns</p>\n",
       "</div>"
      ],
      "text/plain": [
       "   Year  Month  DayofMonth  DayOfWeek  DepTime  ArrTime UniqueCarrier  \\\n",
       "0  2011      1           1          6   1400.0   1500.0            AA   \n",
       "1  2011      1           2          7   1401.0   1501.0            AA   \n",
       "2  2011      1           3          1   1352.0   1502.0            AA   \n",
       "3  2011      1           4          2   1403.0   1513.0            AA   \n",
       "4  2011      1           5          3   1405.0   1507.0            AA   \n",
       "\n",
       "   FlightNum TailNum  ActualElapsedTime  ...  ArrDelay  DepDelay  Origin Dest  \\\n",
       "0        428  N576AA               60.0  ...     -10.0       0.0     IAH  DFW   \n",
       "1        428  N557AA               60.0  ...      -9.0       1.0     IAH  DFW   \n",
       "2        428  N541AA               70.0  ...      -8.0      -8.0     IAH  DFW   \n",
       "3        428  N403AA               70.0  ...       3.0       3.0     IAH  DFW   \n",
       "4        428  N492AA               62.0  ...      -3.0       5.0     IAH  DFW   \n",
       "\n",
       "  Distance  TaxiIn  TaxiOut  Cancelled  CancellationCode Diverted  \n",
       "0      224     7.0     13.0          0               NaN        0  \n",
       "1      224     6.0      9.0          0               NaN        0  \n",
       "2      224     5.0     17.0          0               NaN        0  \n",
       "3      224     9.0     22.0          0               NaN        0  \n",
       "4      224     9.0      9.0          0               NaN        0  \n",
       "\n",
       "[5 rows x 21 columns]"
      ]
     },
     "execution_count": 6,
     "metadata": {},
     "output_type": "execute_result"
    }
   ],
   "source": [
    "# Viewing the head:\n",
    "hflights_df.head()"
   ]
  },
  {
   "cell_type": "code",
   "execution_count": 7,
   "metadata": {},
   "outputs": [
    {
     "data": {
      "text/html": [
       "<div>\n",
       "<style scoped>\n",
       "    .dataframe tbody tr th:only-of-type {\n",
       "        vertical-align: middle;\n",
       "    }\n",
       "\n",
       "    .dataframe tbody tr th {\n",
       "        vertical-align: top;\n",
       "    }\n",
       "\n",
       "    .dataframe thead th {\n",
       "        text-align: right;\n",
       "    }\n",
       "</style>\n",
       "<table border=\"1\" class=\"dataframe\">\n",
       "  <thead>\n",
       "    <tr style=\"text-align: right;\">\n",
       "      <th></th>\n",
       "      <th>Year</th>\n",
       "      <th>Month</th>\n",
       "      <th>DayofMonth</th>\n",
       "      <th>DayOfWeek</th>\n",
       "      <th>DepTime</th>\n",
       "      <th>ArrTime</th>\n",
       "      <th>UniqueCarrier</th>\n",
       "      <th>FlightNum</th>\n",
       "      <th>TailNum</th>\n",
       "      <th>ActualElapsedTime</th>\n",
       "      <th>...</th>\n",
       "      <th>ArrDelay</th>\n",
       "      <th>DepDelay</th>\n",
       "      <th>Origin</th>\n",
       "      <th>Dest</th>\n",
       "      <th>Distance</th>\n",
       "      <th>TaxiIn</th>\n",
       "      <th>TaxiOut</th>\n",
       "      <th>Cancelled</th>\n",
       "      <th>CancellationCode</th>\n",
       "      <th>Diverted</th>\n",
       "    </tr>\n",
       "  </thead>\n",
       "  <tbody>\n",
       "    <tr>\n",
       "      <th>19995</th>\n",
       "      <td>2011</td>\n",
       "      <td>2</td>\n",
       "      <td>25</td>\n",
       "      <td>5</td>\n",
       "      <td>1126.0</td>\n",
       "      <td>1333.0</td>\n",
       "      <td>CO</td>\n",
       "      <td>1719</td>\n",
       "      <td>N19621</td>\n",
       "      <td>187.0</td>\n",
       "      <td>...</td>\n",
       "      <td>8.0</td>\n",
       "      <td>-4.0</td>\n",
       "      <td>IAH</td>\n",
       "      <td>MTJ</td>\n",
       "      <td>926</td>\n",
       "      <td>5.0</td>\n",
       "      <td>30.0</td>\n",
       "      <td>0</td>\n",
       "      <td>NaN</td>\n",
       "      <td>0</td>\n",
       "    </tr>\n",
       "    <tr>\n",
       "      <th>19996</th>\n",
       "      <td>2011</td>\n",
       "      <td>2</td>\n",
       "      <td>25</td>\n",
       "      <td>5</td>\n",
       "      <td>941.0</td>\n",
       "      <td>1111.0</td>\n",
       "      <td>CO</td>\n",
       "      <td>1723</td>\n",
       "      <td>N37298</td>\n",
       "      <td>210.0</td>\n",
       "      <td>...</td>\n",
       "      <td>0.0</td>\n",
       "      <td>11.0</td>\n",
       "      <td>IAH</td>\n",
       "      <td>ONT</td>\n",
       "      <td>1334</td>\n",
       "      <td>5.0</td>\n",
       "      <td>12.0</td>\n",
       "      <td>0</td>\n",
       "      <td>NaN</td>\n",
       "      <td>0</td>\n",
       "    </tr>\n",
       "    <tr>\n",
       "      <th>19997</th>\n",
       "      <td>2011</td>\n",
       "      <td>2</td>\n",
       "      <td>25</td>\n",
       "      <td>5</td>\n",
       "      <td>722.0</td>\n",
       "      <td>948.0</td>\n",
       "      <td>CO</td>\n",
       "      <td>1746</td>\n",
       "      <td>N37408</td>\n",
       "      <td>146.0</td>\n",
       "      <td>...</td>\n",
       "      <td>-17.0</td>\n",
       "      <td>-3.0</td>\n",
       "      <td>IAH</td>\n",
       "      <td>ORD</td>\n",
       "      <td>925</td>\n",
       "      <td>17.0</td>\n",
       "      <td>14.0</td>\n",
       "      <td>0</td>\n",
       "      <td>NaN</td>\n",
       "      <td>0</td>\n",
       "    </tr>\n",
       "    <tr>\n",
       "      <th>19998</th>\n",
       "      <td>2011</td>\n",
       "      <td>2</td>\n",
       "      <td>25</td>\n",
       "      <td>5</td>\n",
       "      <td>1909.0</td>\n",
       "      <td>2216.0</td>\n",
       "      <td>CO</td>\n",
       "      <td>1748</td>\n",
       "      <td>N27239</td>\n",
       "      <td>127.0</td>\n",
       "      <td>...</td>\n",
       "      <td>-10.0</td>\n",
       "      <td>12.0</td>\n",
       "      <td>IAH</td>\n",
       "      <td>FLL</td>\n",
       "      <td>965</td>\n",
       "      <td>6.0</td>\n",
       "      <td>15.0</td>\n",
       "      <td>0</td>\n",
       "      <td>NaN</td>\n",
       "      <td>0</td>\n",
       "    </tr>\n",
       "    <tr>\n",
       "      <th>19999</th>\n",
       "      <td>2011</td>\n",
       "      <td>2</td>\n",
       "      <td>25</td>\n",
       "      <td>5</td>\n",
       "      <td>1255.0</td>\n",
       "      <td>1553.0</td>\n",
       "      <td>CO</td>\n",
       "      <td>1757</td>\n",
       "      <td>N14604</td>\n",
       "      <td>118.0</td>\n",
       "      <td>...</td>\n",
       "      <td>-3.0</td>\n",
       "      <td>5.0</td>\n",
       "      <td>IAH</td>\n",
       "      <td>ATL</td>\n",
       "      <td>689</td>\n",
       "      <td>13.0</td>\n",
       "      <td>22.0</td>\n",
       "      <td>0</td>\n",
       "      <td>NaN</td>\n",
       "      <td>0</td>\n",
       "    </tr>\n",
       "  </tbody>\n",
       "</table>\n",
       "<p>5 rows × 21 columns</p>\n",
       "</div>"
      ],
      "text/plain": [
       "       Year  Month  DayofMonth  DayOfWeek  DepTime  ArrTime UniqueCarrier  \\\n",
       "19995  2011      2          25          5   1126.0   1333.0            CO   \n",
       "19996  2011      2          25          5    941.0   1111.0            CO   \n",
       "19997  2011      2          25          5    722.0    948.0            CO   \n",
       "19998  2011      2          25          5   1909.0   2216.0            CO   \n",
       "19999  2011      2          25          5   1255.0   1553.0            CO   \n",
       "\n",
       "       FlightNum TailNum  ActualElapsedTime  ...  ArrDelay  DepDelay  Origin  \\\n",
       "19995       1719  N19621              187.0  ...       8.0      -4.0     IAH   \n",
       "19996       1723  N37298              210.0  ...       0.0      11.0     IAH   \n",
       "19997       1746  N37408              146.0  ...     -17.0      -3.0     IAH   \n",
       "19998       1748  N27239              127.0  ...     -10.0      12.0     IAH   \n",
       "19999       1757  N14604              118.0  ...      -3.0       5.0     IAH   \n",
       "\n",
       "      Dest Distance  TaxiIn  TaxiOut  Cancelled  CancellationCode Diverted  \n",
       "19995  MTJ      926     5.0     30.0          0               NaN        0  \n",
       "19996  ONT     1334     5.0     12.0          0               NaN        0  \n",
       "19997  ORD      925    17.0     14.0          0               NaN        0  \n",
       "19998  FLL      965     6.0     15.0          0               NaN        0  \n",
       "19999  ATL      689    13.0     22.0          0               NaN        0  \n",
       "\n",
       "[5 rows x 21 columns]"
      ]
     },
     "execution_count": 7,
     "metadata": {},
     "output_type": "execute_result"
    }
   ],
   "source": [
    "# Viewing the tail:\n",
    "hflights_df.tail()"
   ]
  },
  {
   "cell_type": "code",
   "execution_count": 8,
   "metadata": {},
   "outputs": [
    {
     "data": {
      "text/html": [
       "<div>\n",
       "<style scoped>\n",
       "    .dataframe tbody tr th:only-of-type {\n",
       "        vertical-align: middle;\n",
       "    }\n",
       "\n",
       "    .dataframe tbody tr th {\n",
       "        vertical-align: top;\n",
       "    }\n",
       "\n",
       "    .dataframe thead th {\n",
       "        text-align: right;\n",
       "    }\n",
       "</style>\n",
       "<table border=\"1\" class=\"dataframe\">\n",
       "  <thead>\n",
       "    <tr style=\"text-align: right;\">\n",
       "      <th></th>\n",
       "      <th>Year</th>\n",
       "      <th>Month</th>\n",
       "      <th>DayofMonth</th>\n",
       "      <th>DayOfWeek</th>\n",
       "      <th>DepTime</th>\n",
       "      <th>ArrTime</th>\n",
       "      <th>FlightNum</th>\n",
       "      <th>ActualElapsedTime</th>\n",
       "      <th>AirTime</th>\n",
       "      <th>ArrDelay</th>\n",
       "      <th>DepDelay</th>\n",
       "      <th>Distance</th>\n",
       "      <th>TaxiIn</th>\n",
       "      <th>TaxiOut</th>\n",
       "      <th>Cancelled</th>\n",
       "      <th>Diverted</th>\n",
       "    </tr>\n",
       "  </thead>\n",
       "  <tbody>\n",
       "    <tr>\n",
       "      <th>count</th>\n",
       "      <td>20000.0</td>\n",
       "      <td>20000.000000</td>\n",
       "      <td>20000.000000</td>\n",
       "      <td>20000.000000</td>\n",
       "      <td>19785.000000</td>\n",
       "      <td>19766.000000</td>\n",
       "      <td>20000.000000</td>\n",
       "      <td>19738.000000</td>\n",
       "      <td>19738.000000</td>\n",
       "      <td>19738.000000</td>\n",
       "      <td>19785.000000</td>\n",
       "      <td>20000.000000</td>\n",
       "      <td>19766.000000</td>\n",
       "      <td>19780.000000</td>\n",
       "      <td>20000.000000</td>\n",
       "      <td>20000.000000</td>\n",
       "    </tr>\n",
       "    <tr>\n",
       "      <th>mean</th>\n",
       "      <td>2011.0</td>\n",
       "      <td>1.054500</td>\n",
       "      <td>16.319000</td>\n",
       "      <td>4.020300</td>\n",
       "      <td>1396.328228</td>\n",
       "      <td>1586.669382</td>\n",
       "      <td>1626.416900</td>\n",
       "      <td>126.795319</td>\n",
       "      <td>105.584355</td>\n",
       "      <td>5.205340</td>\n",
       "      <td>8.297700</td>\n",
       "      <td>772.899550</td>\n",
       "      <td>6.076546</td>\n",
       "      <td>15.134328</td>\n",
       "      <td>0.011200</td>\n",
       "      <td>0.001900</td>\n",
       "    </tr>\n",
       "    <tr>\n",
       "      <th>std</th>\n",
       "      <td>0.0</td>\n",
       "      <td>0.227007</td>\n",
       "      <td>9.025692</td>\n",
       "      <td>2.096904</td>\n",
       "      <td>441.598739</td>\n",
       "      <td>458.489922</td>\n",
       "      <td>1142.067143</td>\n",
       "      <td>60.158125</td>\n",
       "      <td>57.655970</td>\n",
       "      <td>25.383494</td>\n",
       "      <td>23.934218</td>\n",
       "      <td>458.640531</td>\n",
       "      <td>4.085732</td>\n",
       "      <td>7.046056</td>\n",
       "      <td>0.105238</td>\n",
       "      <td>0.043549</td>\n",
       "    </tr>\n",
       "    <tr>\n",
       "      <th>min</th>\n",
       "      <td>2011.0</td>\n",
       "      <td>1.000000</td>\n",
       "      <td>1.000000</td>\n",
       "      <td>1.000000</td>\n",
       "      <td>1.000000</td>\n",
       "      <td>1.000000</td>\n",
       "      <td>1.000000</td>\n",
       "      <td>35.000000</td>\n",
       "      <td>23.000000</td>\n",
       "      <td>-49.000000</td>\n",
       "      <td>-18.000000</td>\n",
       "      <td>127.000000</td>\n",
       "      <td>1.000000</td>\n",
       "      <td>4.000000</td>\n",
       "      <td>0.000000</td>\n",
       "      <td>0.000000</td>\n",
       "    </tr>\n",
       "    <tr>\n",
       "      <th>25%</th>\n",
       "      <td>2011.0</td>\n",
       "      <td>1.000000</td>\n",
       "      <td>8.000000</td>\n",
       "      <td>2.000000</td>\n",
       "      <td>1026.000000</td>\n",
       "      <td>1224.250000</td>\n",
       "      <td>582.000000</td>\n",
       "      <td>74.000000</td>\n",
       "      <td>54.000000</td>\n",
       "      <td>-8.000000</td>\n",
       "      <td>-3.000000</td>\n",
       "      <td>351.000000</td>\n",
       "      <td>4.000000</td>\n",
       "      <td>10.000000</td>\n",
       "      <td>0.000000</td>\n",
       "      <td>0.000000</td>\n",
       "    </tr>\n",
       "    <tr>\n",
       "      <th>50%</th>\n",
       "      <td>2011.0</td>\n",
       "      <td>1.000000</td>\n",
       "      <td>17.000000</td>\n",
       "      <td>4.000000</td>\n",
       "      <td>1416.000000</td>\n",
       "      <td>1620.000000</td>\n",
       "      <td>1644.000000</td>\n",
       "      <td>123.000000</td>\n",
       "      <td>102.000000</td>\n",
       "      <td>0.000000</td>\n",
       "      <td>1.000000</td>\n",
       "      <td>787.000000</td>\n",
       "      <td>5.000000</td>\n",
       "      <td>14.000000</td>\n",
       "      <td>0.000000</td>\n",
       "      <td>0.000000</td>\n",
       "    </tr>\n",
       "    <tr>\n",
       "      <th>75%</th>\n",
       "      <td>2011.0</td>\n",
       "      <td>1.000000</td>\n",
       "      <td>25.000000</td>\n",
       "      <td>6.000000</td>\n",
       "      <td>1801.000000</td>\n",
       "      <td>1955.000000</td>\n",
       "      <td>2536.000000</td>\n",
       "      <td>162.000000</td>\n",
       "      <td>138.000000</td>\n",
       "      <td>11.000000</td>\n",
       "      <td>10.000000</td>\n",
       "      <td>1034.000000</td>\n",
       "      <td>7.000000</td>\n",
       "      <td>18.000000</td>\n",
       "      <td>0.000000</td>\n",
       "      <td>0.000000</td>\n",
       "    </tr>\n",
       "    <tr>\n",
       "      <th>max</th>\n",
       "      <td>2011.0</td>\n",
       "      <td>2.000000</td>\n",
       "      <td>31.000000</td>\n",
       "      <td>7.000000</td>\n",
       "      <td>2335.000000</td>\n",
       "      <td>2400.000000</td>\n",
       "      <td>7037.000000</td>\n",
       "      <td>539.000000</td>\n",
       "      <td>499.000000</td>\n",
       "      <td>775.000000</td>\n",
       "      <td>780.000000</td>\n",
       "      <td>3904.000000</td>\n",
       "      <td>140.000000</td>\n",
       "      <td>78.000000</td>\n",
       "      <td>1.000000</td>\n",
       "      <td>1.000000</td>\n",
       "    </tr>\n",
       "  </tbody>\n",
       "</table>\n",
       "</div>"
      ],
      "text/plain": [
       "          Year         Month    DayofMonth     DayOfWeek       DepTime  \\\n",
       "count  20000.0  20000.000000  20000.000000  20000.000000  19785.000000   \n",
       "mean    2011.0      1.054500     16.319000      4.020300   1396.328228   \n",
       "std        0.0      0.227007      9.025692      2.096904    441.598739   \n",
       "min     2011.0      1.000000      1.000000      1.000000      1.000000   \n",
       "25%     2011.0      1.000000      8.000000      2.000000   1026.000000   \n",
       "50%     2011.0      1.000000     17.000000      4.000000   1416.000000   \n",
       "75%     2011.0      1.000000     25.000000      6.000000   1801.000000   \n",
       "max     2011.0      2.000000     31.000000      7.000000   2335.000000   \n",
       "\n",
       "            ArrTime     FlightNum  ActualElapsedTime       AirTime  \\\n",
       "count  19766.000000  20000.000000       19738.000000  19738.000000   \n",
       "mean    1586.669382   1626.416900         126.795319    105.584355   \n",
       "std      458.489922   1142.067143          60.158125     57.655970   \n",
       "min        1.000000      1.000000          35.000000     23.000000   \n",
       "25%     1224.250000    582.000000          74.000000     54.000000   \n",
       "50%     1620.000000   1644.000000         123.000000    102.000000   \n",
       "75%     1955.000000   2536.000000         162.000000    138.000000   \n",
       "max     2400.000000   7037.000000         539.000000    499.000000   \n",
       "\n",
       "           ArrDelay      DepDelay      Distance        TaxiIn       TaxiOut  \\\n",
       "count  19738.000000  19785.000000  20000.000000  19766.000000  19780.000000   \n",
       "mean       5.205340      8.297700    772.899550      6.076546     15.134328   \n",
       "std       25.383494     23.934218    458.640531      4.085732      7.046056   \n",
       "min      -49.000000    -18.000000    127.000000      1.000000      4.000000   \n",
       "25%       -8.000000     -3.000000    351.000000      4.000000     10.000000   \n",
       "50%        0.000000      1.000000    787.000000      5.000000     14.000000   \n",
       "75%       11.000000     10.000000   1034.000000      7.000000     18.000000   \n",
       "max      775.000000    780.000000   3904.000000    140.000000     78.000000   \n",
       "\n",
       "          Cancelled      Diverted  \n",
       "count  20000.000000  20000.000000  \n",
       "mean       0.011200      0.001900  \n",
       "std        0.105238      0.043549  \n",
       "min        0.000000      0.000000  \n",
       "25%        0.000000      0.000000  \n",
       "50%        0.000000      0.000000  \n",
       "75%        0.000000      0.000000  \n",
       "max        1.000000      1.000000  "
      ]
     },
     "execution_count": 8,
     "metadata": {},
     "output_type": "execute_result"
    }
   ],
   "source": [
    "# Description of the dataset:\n",
    "hflights_df.describe()"
   ]
  },
  {
   "cell_type": "code",
   "execution_count": 9,
   "metadata": {},
   "outputs": [
    {
     "name": "stdout",
     "output_type": "stream",
     "text": [
      "<class 'pandas.core.frame.DataFrame'>\n",
      "RangeIndex: 20000 entries, 0 to 19999\n",
      "Data columns (total 21 columns):\n",
      " #   Column             Non-Null Count  Dtype  \n",
      "---  ------             --------------  -----  \n",
      " 0   Year               20000 non-null  int64  \n",
      " 1   Month              20000 non-null  int64  \n",
      " 2   DayofMonth         20000 non-null  int64  \n",
      " 3   DayOfWeek          20000 non-null  int64  \n",
      " 4   DepTime            19785 non-null  float64\n",
      " 5   ArrTime            19766 non-null  float64\n",
      " 6   UniqueCarrier      20000 non-null  object \n",
      " 7   FlightNum          20000 non-null  int64  \n",
      " 8   TailNum            19892 non-null  object \n",
      " 9   ActualElapsedTime  19738 non-null  float64\n",
      " 10  AirTime            19738 non-null  float64\n",
      " 11  ArrDelay           19738 non-null  float64\n",
      " 12  DepDelay           19785 non-null  float64\n",
      " 13  Origin             20000 non-null  object \n",
      " 14  Dest               20000 non-null  object \n",
      " 15  Distance           20000 non-null  int64  \n",
      " 16  TaxiIn             19766 non-null  float64\n",
      " 17  TaxiOut            19780 non-null  float64\n",
      " 18  Cancelled          20000 non-null  int64  \n",
      " 19  CancellationCode   224 non-null    object \n",
      " 20  Diverted           20000 non-null  int64  \n",
      "dtypes: float64(8), int64(8), object(5)\n",
      "memory usage: 3.2+ MB\n"
     ]
    }
   ],
   "source": [
    "# Now, we will check the information of the dataset:\n",
    "hflights_df.info()"
   ]
  },
  {
   "cell_type": "code",
   "execution_count": 10,
   "metadata": {
    "scrolled": true
   },
   "outputs": [
    {
     "data": {
      "text/plain": [
       "(20000, 21)"
      ]
     },
     "execution_count": 10,
     "metadata": {},
     "output_type": "execute_result"
    }
   ],
   "source": [
    "# Let's view the shape of our dataframe:\n",
    "hflights_df.shape"
   ]
  },
  {
   "cell_type": "markdown",
   "metadata": {},
   "source": [
    "So, as per the analysis there are a total of 21 columns and a total of 20,000 records."
   ]
  },
  {
   "cell_type": "markdown",
   "metadata": {},
   "source": [
    "### 2. Introduction:\n",
    "\n",
    "#### Research Question: IAH/HOU CEO Performance Review:"
   ]
  },
  {
   "cell_type": "markdown",
   "metadata": {},
   "source": [
    "Every airport's efficiency is directly proportional to a customer's travel experience. Travel experience is always heavily dependent on a flight's arrival/departure times and not to mention flight cancellations. If a customer has to wait longer times for traveling between once city to another. Then it is possible that they might no longer feel confident in certain airport and also in certain plane companies.\n",
    "\n",
    "In our research question, we come up with a scenario where the CEO's of both airports 'IAH' and 'HOU' performance of 1st two months of 2011 is being evaluated by the City of Houston. In this performance review, the City of Houston will analyze which airport has most flights which are either cancelled or where the departure time was greater. \n",
    "\n",
    "Whoever fails to meet the expectations of the City of Houston, then that CEO will have to meet up with the officials of various flight carriers and come up with ways to cut down flight cancellations and improve departure rates. So that the people of City of Hoston can comfortably travel without any hassle or worries.\n",
    "\n",
    "> ##### Steps required to answer the question above:-\n",
    "> 1. Find overall count of cancellations as a whole in both IAH and HOU 'origin' airports.\n",
    "> 2. Find cancellation of flights with respect to 'UniqueCarriers' in each 'origin' airport.\n",
    "> 3. Find which airport has more departure delays with respect to each other. Also, which carriers have more departure delays than the other?"
   ]
  },
  {
   "cell_type": "markdown",
   "metadata": {},
   "source": [
    "### 3. Data Preparation:"
   ]
  },
  {
   "cell_type": "markdown",
   "metadata": {},
   "source": [
    "The first step in our process is to remove those columns which are not required. We are already aware that we are doing analysis for the year 2011. So we will remove columns : 'Year, taxiin, taxiout, diverted'. As such they are dropped and the remaining columns are saved as a new data frame:-"
   ]
  },
  {
   "cell_type": "code",
   "execution_count": 11,
   "metadata": {},
   "outputs": [],
   "source": [
    "#Drop all unnecessary columns\n",
    "new_hflight = hflights_df.drop(['Year','TaxiIn','TaxiOut','Diverted'], axis=1)"
   ]
  },
  {
   "cell_type": "code",
   "execution_count": 12,
   "metadata": {},
   "outputs": [
    {
     "data": {
      "text/html": [
       "<div>\n",
       "<style scoped>\n",
       "    .dataframe tbody tr th:only-of-type {\n",
       "        vertical-align: middle;\n",
       "    }\n",
       "\n",
       "    .dataframe tbody tr th {\n",
       "        vertical-align: top;\n",
       "    }\n",
       "\n",
       "    .dataframe thead th {\n",
       "        text-align: right;\n",
       "    }\n",
       "</style>\n",
       "<table border=\"1\" class=\"dataframe\">\n",
       "  <thead>\n",
       "    <tr style=\"text-align: right;\">\n",
       "      <th></th>\n",
       "      <th>Month</th>\n",
       "      <th>DayofMonth</th>\n",
       "      <th>DayOfWeek</th>\n",
       "      <th>DepTime</th>\n",
       "      <th>ArrTime</th>\n",
       "      <th>UniqueCarrier</th>\n",
       "      <th>FlightNum</th>\n",
       "      <th>TailNum</th>\n",
       "      <th>ActualElapsedTime</th>\n",
       "      <th>AirTime</th>\n",
       "      <th>ArrDelay</th>\n",
       "      <th>DepDelay</th>\n",
       "      <th>Origin</th>\n",
       "      <th>Dest</th>\n",
       "      <th>Distance</th>\n",
       "      <th>Cancelled</th>\n",
       "      <th>CancellationCode</th>\n",
       "    </tr>\n",
       "  </thead>\n",
       "  <tbody>\n",
       "    <tr>\n",
       "      <th>0</th>\n",
       "      <td>1</td>\n",
       "      <td>1</td>\n",
       "      <td>6</td>\n",
       "      <td>1400.0</td>\n",
       "      <td>1500.0</td>\n",
       "      <td>AA</td>\n",
       "      <td>428</td>\n",
       "      <td>N576AA</td>\n",
       "      <td>60.0</td>\n",
       "      <td>40.0</td>\n",
       "      <td>-10.0</td>\n",
       "      <td>0.0</td>\n",
       "      <td>IAH</td>\n",
       "      <td>DFW</td>\n",
       "      <td>224</td>\n",
       "      <td>0</td>\n",
       "      <td>NaN</td>\n",
       "    </tr>\n",
       "    <tr>\n",
       "      <th>1</th>\n",
       "      <td>1</td>\n",
       "      <td>2</td>\n",
       "      <td>7</td>\n",
       "      <td>1401.0</td>\n",
       "      <td>1501.0</td>\n",
       "      <td>AA</td>\n",
       "      <td>428</td>\n",
       "      <td>N557AA</td>\n",
       "      <td>60.0</td>\n",
       "      <td>45.0</td>\n",
       "      <td>-9.0</td>\n",
       "      <td>1.0</td>\n",
       "      <td>IAH</td>\n",
       "      <td>DFW</td>\n",
       "      <td>224</td>\n",
       "      <td>0</td>\n",
       "      <td>NaN</td>\n",
       "    </tr>\n",
       "    <tr>\n",
       "      <th>2</th>\n",
       "      <td>1</td>\n",
       "      <td>3</td>\n",
       "      <td>1</td>\n",
       "      <td>1352.0</td>\n",
       "      <td>1502.0</td>\n",
       "      <td>AA</td>\n",
       "      <td>428</td>\n",
       "      <td>N541AA</td>\n",
       "      <td>70.0</td>\n",
       "      <td>48.0</td>\n",
       "      <td>-8.0</td>\n",
       "      <td>-8.0</td>\n",
       "      <td>IAH</td>\n",
       "      <td>DFW</td>\n",
       "      <td>224</td>\n",
       "      <td>0</td>\n",
       "      <td>NaN</td>\n",
       "    </tr>\n",
       "    <tr>\n",
       "      <th>3</th>\n",
       "      <td>1</td>\n",
       "      <td>4</td>\n",
       "      <td>2</td>\n",
       "      <td>1403.0</td>\n",
       "      <td>1513.0</td>\n",
       "      <td>AA</td>\n",
       "      <td>428</td>\n",
       "      <td>N403AA</td>\n",
       "      <td>70.0</td>\n",
       "      <td>39.0</td>\n",
       "      <td>3.0</td>\n",
       "      <td>3.0</td>\n",
       "      <td>IAH</td>\n",
       "      <td>DFW</td>\n",
       "      <td>224</td>\n",
       "      <td>0</td>\n",
       "      <td>NaN</td>\n",
       "    </tr>\n",
       "    <tr>\n",
       "      <th>4</th>\n",
       "      <td>1</td>\n",
       "      <td>5</td>\n",
       "      <td>3</td>\n",
       "      <td>1405.0</td>\n",
       "      <td>1507.0</td>\n",
       "      <td>AA</td>\n",
       "      <td>428</td>\n",
       "      <td>N492AA</td>\n",
       "      <td>62.0</td>\n",
       "      <td>44.0</td>\n",
       "      <td>-3.0</td>\n",
       "      <td>5.0</td>\n",
       "      <td>IAH</td>\n",
       "      <td>DFW</td>\n",
       "      <td>224</td>\n",
       "      <td>0</td>\n",
       "      <td>NaN</td>\n",
       "    </tr>\n",
       "  </tbody>\n",
       "</table>\n",
       "</div>"
      ],
      "text/plain": [
       "   Month  DayofMonth  DayOfWeek  DepTime  ArrTime UniqueCarrier  FlightNum  \\\n",
       "0      1           1          6   1400.0   1500.0            AA        428   \n",
       "1      1           2          7   1401.0   1501.0            AA        428   \n",
       "2      1           3          1   1352.0   1502.0            AA        428   \n",
       "3      1           4          2   1403.0   1513.0            AA        428   \n",
       "4      1           5          3   1405.0   1507.0            AA        428   \n",
       "\n",
       "  TailNum  ActualElapsedTime  AirTime  ArrDelay  DepDelay Origin Dest  \\\n",
       "0  N576AA               60.0     40.0     -10.0       0.0    IAH  DFW   \n",
       "1  N557AA               60.0     45.0      -9.0       1.0    IAH  DFW   \n",
       "2  N541AA               70.0     48.0      -8.0      -8.0    IAH  DFW   \n",
       "3  N403AA               70.0     39.0       3.0       3.0    IAH  DFW   \n",
       "4  N492AA               62.0     44.0      -3.0       5.0    IAH  DFW   \n",
       "\n",
       "   Distance  Cancelled CancellationCode  \n",
       "0       224          0              NaN  \n",
       "1       224          0              NaN  \n",
       "2       224          0              NaN  \n",
       "3       224          0              NaN  \n",
       "4       224          0              NaN  "
      ]
     },
     "execution_count": 12,
     "metadata": {},
     "output_type": "execute_result"
    }
   ],
   "source": [
    "# Let's check the head of our new dataframe:\n",
    "new_hflight.head()"
   ]
  },
  {
   "cell_type": "code",
   "execution_count": 94,
   "metadata": {},
   "outputs": [
    {
     "name": "stdout",
     "output_type": "stream",
     "text": [
      "<class 'pandas.core.frame.DataFrame'>\n",
      "RangeIndex: 20000 entries, 0 to 19999\n",
      "Data columns (total 17 columns):\n",
      " #   Column             Non-Null Count  Dtype  \n",
      "---  ------             --------------  -----  \n",
      " 0   Month              20000 non-null  int64  \n",
      " 1   DayofMonth         20000 non-null  int64  \n",
      " 2   DayOfWeek          20000 non-null  int64  \n",
      " 3   DepTime            19785 non-null  float64\n",
      " 4   ArrTime            19766 non-null  float64\n",
      " 5   UniqueCarrier      20000 non-null  object \n",
      " 6   FlightNum          20000 non-null  int64  \n",
      " 7   TailNum            19892 non-null  object \n",
      " 8   ActualElapsedTime  19738 non-null  float64\n",
      " 9   AirTime            19738 non-null  float64\n",
      " 10  ArrDelay           19738 non-null  float64\n",
      " 11  DepDelay           19785 non-null  float64\n",
      " 12  Origin             20000 non-null  object \n",
      " 13  Dest               20000 non-null  object \n",
      " 14  Distance           20000 non-null  int64  \n",
      " 15  Cancelled          20000 non-null  int64  \n",
      " 16  CancellationCode   224 non-null    object \n",
      "dtypes: float64(6), int64(6), object(5)\n",
      "memory usage: 2.6+ MB\n"
     ]
    }
   ],
   "source": [
    "# Now, let's check if our new dataframe has some missing value:\n",
    "new_hflight.info()"
   ]
  },
  {
   "cell_type": "markdown",
   "metadata": {},
   "source": [
    "Now, since we want results of cancellation flights and with their cancellation code. We create a new dataframe 'cancel_data' which has just that information of columns : 'Day of Week, UniqueCarrier, FlightNum, Origin, Destination, Distance, Cancelled and CancellationCode' :-"
   ]
  },
  {
   "cell_type": "code",
   "execution_count": 13,
   "metadata": {},
   "outputs": [
    {
     "data": {
      "text/html": [
       "<div>\n",
       "<style scoped>\n",
       "    .dataframe tbody tr th:only-of-type {\n",
       "        vertical-align: middle;\n",
       "    }\n",
       "\n",
       "    .dataframe tbody tr th {\n",
       "        vertical-align: top;\n",
       "    }\n",
       "\n",
       "    .dataframe thead th {\n",
       "        text-align: right;\n",
       "    }\n",
       "</style>\n",
       "<table border=\"1\" class=\"dataframe\">\n",
       "  <thead>\n",
       "    <tr style=\"text-align: right;\">\n",
       "      <th></th>\n",
       "      <th>DayOfWeek</th>\n",
       "      <th>UniqueCarrier</th>\n",
       "      <th>FlightNum</th>\n",
       "      <th>Origin</th>\n",
       "      <th>Dest</th>\n",
       "      <th>Distance</th>\n",
       "      <th>Cancelled</th>\n",
       "      <th>CancellationCode</th>\n",
       "    </tr>\n",
       "  </thead>\n",
       "  <tbody>\n",
       "    <tr>\n",
       "      <th>0</th>\n",
       "      <td>6</td>\n",
       "      <td>AA</td>\n",
       "      <td>428</td>\n",
       "      <td>IAH</td>\n",
       "      <td>DFW</td>\n",
       "      <td>224</td>\n",
       "      <td>0</td>\n",
       "      <td>NaN</td>\n",
       "    </tr>\n",
       "    <tr>\n",
       "      <th>1</th>\n",
       "      <td>7</td>\n",
       "      <td>AA</td>\n",
       "      <td>428</td>\n",
       "      <td>IAH</td>\n",
       "      <td>DFW</td>\n",
       "      <td>224</td>\n",
       "      <td>0</td>\n",
       "      <td>NaN</td>\n",
       "    </tr>\n",
       "    <tr>\n",
       "      <th>2</th>\n",
       "      <td>1</td>\n",
       "      <td>AA</td>\n",
       "      <td>428</td>\n",
       "      <td>IAH</td>\n",
       "      <td>DFW</td>\n",
       "      <td>224</td>\n",
       "      <td>0</td>\n",
       "      <td>NaN</td>\n",
       "    </tr>\n",
       "    <tr>\n",
       "      <th>3</th>\n",
       "      <td>2</td>\n",
       "      <td>AA</td>\n",
       "      <td>428</td>\n",
       "      <td>IAH</td>\n",
       "      <td>DFW</td>\n",
       "      <td>224</td>\n",
       "      <td>0</td>\n",
       "      <td>NaN</td>\n",
       "    </tr>\n",
       "    <tr>\n",
       "      <th>4</th>\n",
       "      <td>3</td>\n",
       "      <td>AA</td>\n",
       "      <td>428</td>\n",
       "      <td>IAH</td>\n",
       "      <td>DFW</td>\n",
       "      <td>224</td>\n",
       "      <td>0</td>\n",
       "      <td>NaN</td>\n",
       "    </tr>\n",
       "  </tbody>\n",
       "</table>\n",
       "</div>"
      ],
      "text/plain": [
       "   DayOfWeek UniqueCarrier  FlightNum Origin Dest  Distance  Cancelled  \\\n",
       "0          6            AA        428    IAH  DFW       224          0   \n",
       "1          7            AA        428    IAH  DFW       224          0   \n",
       "2          1            AA        428    IAH  DFW       224          0   \n",
       "3          2            AA        428    IAH  DFW       224          0   \n",
       "4          3            AA        428    IAH  DFW       224          0   \n",
       "\n",
       "  CancellationCode  \n",
       "0              NaN  \n",
       "1              NaN  \n",
       "2              NaN  \n",
       "3              NaN  \n",
       "4              NaN  "
      ]
     },
     "execution_count": 13,
     "metadata": {},
     "output_type": "execute_result"
    }
   ],
   "source": [
    "# We will use double brakets to select the columns and form a new dataframe:\n",
    "\n",
    "cancel_data = new_hflight[['DayOfWeek','UniqueCarrier','FlightNum','Origin','Dest','Distance','Cancelled', 'CancellationCode']]\n",
    "cancel_data.head()"
   ]
  },
  {
   "cell_type": "code",
   "execution_count": 14,
   "metadata": {},
   "outputs": [
    {
     "data": {
      "text/html": [
       "<div>\n",
       "<style scoped>\n",
       "    .dataframe tbody tr th:only-of-type {\n",
       "        vertical-align: middle;\n",
       "    }\n",
       "\n",
       "    .dataframe tbody tr th {\n",
       "        vertical-align: top;\n",
       "    }\n",
       "\n",
       "    .dataframe thead th {\n",
       "        text-align: right;\n",
       "    }\n",
       "</style>\n",
       "<table border=\"1\" class=\"dataframe\">\n",
       "  <thead>\n",
       "    <tr style=\"text-align: right;\">\n",
       "      <th></th>\n",
       "      <th>index</th>\n",
       "      <th>Month</th>\n",
       "      <th>DayofMonth</th>\n",
       "      <th>DayOfWeek</th>\n",
       "      <th>DepTime</th>\n",
       "      <th>ArrTime</th>\n",
       "      <th>UniqueCarrier</th>\n",
       "      <th>FlightNum</th>\n",
       "      <th>TailNum</th>\n",
       "      <th>ActualElapsedTime</th>\n",
       "      <th>AirTime</th>\n",
       "      <th>ArrDelay</th>\n",
       "      <th>DepDelay</th>\n",
       "      <th>Origin</th>\n",
       "      <th>Dest</th>\n",
       "      <th>Distance</th>\n",
       "      <th>Cancelled</th>\n",
       "      <th>CancellationCode</th>\n",
       "    </tr>\n",
       "  </thead>\n",
       "  <tbody>\n",
       "    <tr>\n",
       "      <th>19771</th>\n",
       "      <td>19995</td>\n",
       "      <td>2</td>\n",
       "      <td>25</td>\n",
       "      <td>5</td>\n",
       "      <td>1126.0</td>\n",
       "      <td>1333.0</td>\n",
       "      <td>CO</td>\n",
       "      <td>1719</td>\n",
       "      <td>N19621</td>\n",
       "      <td>187.0</td>\n",
       "      <td>152.0</td>\n",
       "      <td>8.0</td>\n",
       "      <td>-4.0</td>\n",
       "      <td>IAH</td>\n",
       "      <td>MTJ</td>\n",
       "      <td>926</td>\n",
       "      <td>0</td>\n",
       "      <td>NaN</td>\n",
       "    </tr>\n",
       "    <tr>\n",
       "      <th>19772</th>\n",
       "      <td>19996</td>\n",
       "      <td>2</td>\n",
       "      <td>25</td>\n",
       "      <td>5</td>\n",
       "      <td>941.0</td>\n",
       "      <td>1111.0</td>\n",
       "      <td>CO</td>\n",
       "      <td>1723</td>\n",
       "      <td>N37298</td>\n",
       "      <td>210.0</td>\n",
       "      <td>193.0</td>\n",
       "      <td>0.0</td>\n",
       "      <td>11.0</td>\n",
       "      <td>IAH</td>\n",
       "      <td>ONT</td>\n",
       "      <td>1334</td>\n",
       "      <td>0</td>\n",
       "      <td>NaN</td>\n",
       "    </tr>\n",
       "    <tr>\n",
       "      <th>19773</th>\n",
       "      <td>19997</td>\n",
       "      <td>2</td>\n",
       "      <td>25</td>\n",
       "      <td>5</td>\n",
       "      <td>722.0</td>\n",
       "      <td>948.0</td>\n",
       "      <td>CO</td>\n",
       "      <td>1746</td>\n",
       "      <td>N37408</td>\n",
       "      <td>146.0</td>\n",
       "      <td>115.0</td>\n",
       "      <td>-17.0</td>\n",
       "      <td>-3.0</td>\n",
       "      <td>IAH</td>\n",
       "      <td>ORD</td>\n",
       "      <td>925</td>\n",
       "      <td>0</td>\n",
       "      <td>NaN</td>\n",
       "    </tr>\n",
       "    <tr>\n",
       "      <th>19774</th>\n",
       "      <td>19998</td>\n",
       "      <td>2</td>\n",
       "      <td>25</td>\n",
       "      <td>5</td>\n",
       "      <td>1909.0</td>\n",
       "      <td>2216.0</td>\n",
       "      <td>CO</td>\n",
       "      <td>1748</td>\n",
       "      <td>N27239</td>\n",
       "      <td>127.0</td>\n",
       "      <td>106.0</td>\n",
       "      <td>-10.0</td>\n",
       "      <td>12.0</td>\n",
       "      <td>IAH</td>\n",
       "      <td>FLL</td>\n",
       "      <td>965</td>\n",
       "      <td>0</td>\n",
       "      <td>NaN</td>\n",
       "    </tr>\n",
       "    <tr>\n",
       "      <th>19775</th>\n",
       "      <td>19999</td>\n",
       "      <td>2</td>\n",
       "      <td>25</td>\n",
       "      <td>5</td>\n",
       "      <td>1255.0</td>\n",
       "      <td>1553.0</td>\n",
       "      <td>CO</td>\n",
       "      <td>1757</td>\n",
       "      <td>N14604</td>\n",
       "      <td>118.0</td>\n",
       "      <td>83.0</td>\n",
       "      <td>-3.0</td>\n",
       "      <td>5.0</td>\n",
       "      <td>IAH</td>\n",
       "      <td>ATL</td>\n",
       "      <td>689</td>\n",
       "      <td>0</td>\n",
       "      <td>NaN</td>\n",
       "    </tr>\n",
       "  </tbody>\n",
       "</table>\n",
       "</div>"
      ],
      "text/plain": [
       "       index  Month  DayofMonth  DayOfWeek  DepTime  ArrTime UniqueCarrier  \\\n",
       "19771  19995      2          25          5   1126.0   1333.0            CO   \n",
       "19772  19996      2          25          5    941.0   1111.0            CO   \n",
       "19773  19997      2          25          5    722.0    948.0            CO   \n",
       "19774  19998      2          25          5   1909.0   2216.0            CO   \n",
       "19775  19999      2          25          5   1255.0   1553.0            CO   \n",
       "\n",
       "       FlightNum TailNum  ActualElapsedTime  AirTime  ArrDelay  DepDelay  \\\n",
       "19771       1719  N19621              187.0    152.0       8.0      -4.0   \n",
       "19772       1723  N37298              210.0    193.0       0.0      11.0   \n",
       "19773       1746  N37408              146.0    115.0     -17.0      -3.0   \n",
       "19774       1748  N27239              127.0    106.0     -10.0      12.0   \n",
       "19775       1757  N14604              118.0     83.0      -3.0       5.0   \n",
       "\n",
       "      Origin Dest  Distance  Cancelled CancellationCode  \n",
       "19771    IAH  MTJ       926          0              NaN  \n",
       "19772    IAH  ONT      1334          0              NaN  \n",
       "19773    IAH  ORD       925          0              NaN  \n",
       "19774    IAH  FLL       965          0              NaN  \n",
       "19775    IAH  ATL       689          0              NaN  "
      ]
     },
     "execution_count": 14,
     "metadata": {},
     "output_type": "execute_result"
    }
   ],
   "source": [
    "# Now we will create another dataframe which has information on flights which were not cancelled and rather ran normally\n",
    "# We do this so that we can calculate actual performance of both 'IAH' and 'HOU'\n",
    "# Cancellation == 0 means, that the flights were not cancelled:\n",
    "\n",
    "new_hflight_regular = new_hflight[new_hflight['Cancelled']==0].reset_index()\n",
    "new_hflight_regular.tail()"
   ]
  },
  {
   "cell_type": "markdown",
   "metadata": {},
   "source": [
    "### 4. Preliminary Data Analysis:"
   ]
  },
  {
   "cell_type": "code",
   "execution_count": 15,
   "metadata": {},
   "outputs": [
    {
     "name": "stdout",
     "output_type": "stream",
     "text": [
      "The total number of flights departed from IAH in Jan-Feb 2011 are:\n",
      " 15681\n",
      "\n",
      "\n",
      "The total number of flights departed from HOU in Jan-Feb 2011 are:\n",
      " 4319\n"
     ]
    }
   ],
   "source": [
    "# Going to find the total number of flights which departed from 'IAH' and 'HOU':\n",
    "\n",
    "\n",
    "IAHflights = new_hflight[new_hflight.Origin == 'IAH'].shape[0]\n",
    "print('The total number of flights departed from IAH in Jan-Feb 2011 are:\\n', IAHflights)\n",
    "\n",
    "HOUflights = new_hflight[new_hflight.Origin == 'HOU'].shape[0]\n",
    "print('\\n\\nThe total number of flights departed from HOU in Jan-Feb 2011 are:\\n', HOUflights)"
   ]
  },
  {
   "cell_type": "code",
   "execution_count": 16,
   "metadata": {},
   "outputs": [
    {
     "data": {
      "text/plain": [
       "array(['AA', 'AS', 'B6', 'CO', 'DL', 'OO', 'UA', 'US', 'WN', 'EV', 'F9',\n",
       "       'FL', 'MQ', 'XE'], dtype=object)"
      ]
     },
     "execution_count": 16,
     "metadata": {},
     "output_type": "execute_result"
    }
   ],
   "source": [
    "# finding how many flight carriers are there:\n",
    "new_hflight.UniqueCarrier.unique()"
   ]
  },
  {
   "cell_type": "code",
   "execution_count": 17,
   "metadata": {
    "scrolled": true
   },
   "outputs": [
    {
     "data": {
      "text/plain": [
       "14"
      ]
     },
     "execution_count": 17,
     "metadata": {},
     "output_type": "execute_result"
    }
   ],
   "source": [
    "# finding how many unique flight carriers are there in numbers:\n",
    "new_hflight.UniqueCarrier.nunique()"
   ]
  },
  {
   "cell_type": "markdown",
   "metadata": {},
   "source": [
    "Now, that we have made important analysis, created dataframes which were crucial for answering our research questions. We now delve down deeper and do some visualizations using Pandas. We will find the total 'Cancellation' rates in both the airports:"
   ]
  },
  {
   "cell_type": "code",
   "execution_count": 18,
   "metadata": {},
   "outputs": [
    {
     "data": {
      "text/plain": [
       "Text(0, 0.5, 'Total Number of Cancelled Flights Overall')"
      ]
     },
     "execution_count": 18,
     "metadata": {},
     "output_type": "execute_result"
    },
    {
     "data": {
      "image/png": "[encoded data removed]",
      "text/plain": [
       "<Figure size 432x288 with 1 Axes>"
      ]
     },
     "metadata": {
      "needs_background": "light"
     },
     "output_type": "display_data"
    }
   ],
   "source": [
    "# Using the concept of groupby that separates the column per origin\n",
    "cancelviz=cancel_data.groupby('Origin')['Cancelled'].sum().plot.bar(title='Flights Cancelled Per Origin Airport', color='red')\n",
    "cancelviz.set_ylabel('Total Number of Cancelled Flights Overall')"
   ]
  },
  {
   "cell_type": "markdown",
   "metadata": {},
   "source": [
    "\n",
    "Our bar graph shows us that IAH had a larger number of cancellations. Now, let's take a deeper dive and look at cancellation rates with respect to the 'UniqueCarrier':-"
   ]
  },
  {
   "cell_type": "code",
   "execution_count": 19,
   "metadata": {},
   "outputs": [
    {
     "data": {
      "text/plain": [
       "Text(0, 0.5, 'Total Number of Cancelled Flights')"
      ]
     },
     "execution_count": 19,
     "metadata": {},
     "output_type": "execute_result"
    },
    {
     "data": {
      "image/png": "[encoded data removed]",
      "text/plain": [
       "<Figure size 720x360 with 1 Axes>"
      ]
     },
     "metadata": {
      "needs_background": "light"
     },
     "output_type": "display_data"
    }
   ],
   "source": [
    "\n",
    "unique_carrier_viz=cancel_data.groupby('UniqueCarrier')['Cancelled'].sum().plot.bar(title='Total Cancellations per Carrier',figsize=(10,5), color='orange')\n",
    "unique_carrier_viz.set_ylabel('Total Number of Cancelled Flights')"
   ]
  },
  {
   "cell_type": "markdown",
   "metadata": {},
   "source": [
    "This bar graphs shows the total cancellations which took place in both the airports i.e. 'IAH' and 'HOU'. As per the graph, CO had the most cancellations and F9, AS, UA, B6 had the lowest cancellations. Now, in the next stage. We will look into the cancellation rates overall w.r.t each airport."
   ]
  },
  {
   "cell_type": "markdown",
   "metadata": {},
   "source": [
    "### 5. Research Results:"
   ]
  },
  {
   "cell_type": "markdown",
   "metadata": {},
   "source": [
    "Now, its time to calculate the cancel rates per each airport. In our dataset, 1 = means cancelled and 0 = not cancelled."
   ]
  },
  {
   "cell_type": "code",
   "execution_count": 20,
   "metadata": {},
   "outputs": [
    {
     "name": "stdout",
     "output_type": "stream",
     "text": [
      "IAH had the cancellation rate of 0.99%.\n"
     ]
    }
   ],
   "source": [
    "# We create 2 new variables, one which stores cancel rates in 'IAH' and the other which stores overall count in 'IAH'\n",
    "# We also use dataframe.shape to get the number of the rows:\n",
    "\n",
    "cancel_count_IAH = cancel_data[(cancel_data['Origin']=='IAH') & (cancel_data['Cancelled']==1)].shape[0]\n",
    "total_count_IAH =cancel_data[cancel_data['Origin']=='IAH'].shape[0]\n",
    "\n",
    "#The cancellation rate of IAH is:-\n",
    "print ('IAH had the cancellation rate of '+ str(round(cancel_count_IAH/total_count_IAH*100,2))+'%.')"
   ]
  },
  {
   "cell_type": "code",
   "execution_count": 21,
   "metadata": {},
   "outputs": [
    {
     "name": "stdout",
     "output_type": "stream",
     "text": [
      "HOU had the cancellation rate of 1.57%.\n"
     ]
    }
   ],
   "source": [
    "# We create 2 new variables, one which stores cancel rates in 'HOU' and the other which stores overall count in 'HOU'\n",
    "# We also use dataframe.shape to get the number of the rows\n",
    "\n",
    "cancel_count_HOU = cancel_data[(cancel_data['Origin']=='HOU') & (cancel_data['Cancelled']==1)].shape[0]\n",
    "total_count_HOU =cancel_data[cancel_data['Origin']=='HOU'].shape[0]\n",
    "\n",
    "#The cancellation rate of HOU is:-\n",
    "print ('HOU had the cancellation rate of '+ str(round(cancel_count_HOU/total_count_HOU*100,2))+'%.')"
   ]
  },
  {
   "cell_type": "markdown",
   "metadata": {},
   "source": [
    "Now, we have the overall cancellation rate of both the airports, let's have the cancellation numbers w.r.t each flight carrier taking place at both the airports i.e. 'IAH' and 'HOU'"
   ]
  },
  {
   "cell_type": "code",
   "execution_count": 22,
   "metadata": {},
   "outputs": [
    {
     "data": {
      "text/plain": [
       "Text(0, 0.5, 'Total Cancelled Flights')"
      ]
     },
     "execution_count": 22,
     "metadata": {},
     "output_type": "execute_result"
    },
    {
     "data": {
      "image/png": "[encoded data removed]",
      "text/plain": [
       "<Figure size 432x288 with 1 Axes>"
      ]
     },
     "metadata": {
      "needs_background": "light"
     },
     "output_type": "display_data"
    }
   ],
   "source": [
    "# Creating a new varialble which saves cancelled flight data in IAH:\n",
    "\n",
    "IAH_cancel_data = cancel_data[cancel_data['Origin']=='IAH']\n",
    "viz_IAH_cancel_data = IAH_cancel_data.groupby('UniqueCarrier')['Cancelled'].sum().plot.bar(title='Total Cancellations per Carrier in IAH', color='purple')\n",
    "viz_IAH_cancel_data.set_ylabel('Total Cancelled Flights')"
   ]
  },
  {
   "cell_type": "markdown",
   "metadata": {},
   "source": [
    "For IAH, CO had the highest number of cancelled flights (50+) whereas AS had the lowest (0)."
   ]
  },
  {
   "cell_type": "code",
   "execution_count": 23,
   "metadata": {},
   "outputs": [
    {
     "data": {
      "text/plain": [
       "Text(0, 0.5, 'Total Cancelled Flights')"
      ]
     },
     "execution_count": 23,
     "metadata": {},
     "output_type": "execute_result"
    },
    {
     "data": {
      "image/png": "[encoded data removed]",
      "text/plain": [
       "<Figure size 432x288 with 1 Axes>"
      ]
     },
     "metadata": {
      "needs_background": "light"
     },
     "output_type": "display_data"
    }
   ],
   "source": [
    "# Creating anew varialble which saves cancelled flight data in HOU:\n",
    "\n",
    "HOU_cancel_data = cancel_data[cancel_data['Origin']=='HOU']\n",
    "viz_HOU_cancel_data = HOU_cancel_data.groupby('UniqueCarrier')['Cancelled'].sum().plot.bar(title='Total Cancellations per Carrier in HOU', color='yellow')\n",
    "viz_HOU_cancel_data.set_ylabel('Total Cancelled Flights')"
   ]
  },
  {
   "cell_type": "markdown",
   "metadata": {},
   "source": [
    "For HOU, WN had the highest total of cancellations i.e. 35+ whereas both EV and F9 had the lowest (0)."
   ]
  },
  {
   "cell_type": "markdown",
   "metadata": {},
   "source": [
    "##### Now, we are done with the analysis of carrier wise analysis. Now it is time to do a performance analysis of both 'IAH' and 'HOU' airports. For this purpose, we will utilize the dataframe which doesn't have cancelled flight data i.e. 'new_hflight_regular'."
   ]
  },
  {
   "cell_type": "code",
   "execution_count": 24,
   "metadata": {},
   "outputs": [
    {
     "name": "stdout",
     "output_type": "stream",
     "text": [
      "The on-time departure rate of IAH is 53.54%.\n"
     ]
    }
   ],
   "source": [
    "# Now, we will calculate the on-time departure rate of IAH, As per the dataframe all rows with departure time above 0 \n",
    "# will be counted as 'not-on time departure'. Hence, for this we use ['DepDelay']>0\n",
    "\n",
    "IAH_dep_rate = new_hflight_regular[new_hflight_regular['Origin']=='IAH']\n",
    "\n",
    "result_IAH = 100-round((len(IAH_dep_rate[IAH_dep_rate['DepDelay']>0])/len(IAH_dep_rate))*100.0,2)\n",
    "print ('The on-time departure rate of IAH is '+str(result_IAH)+'%.')"
   ]
  },
  {
   "cell_type": "code",
   "execution_count": 25,
   "metadata": {},
   "outputs": [
    {
     "name": "stdout",
     "output_type": "stream",
     "text": [
      "The on-time departure rate of HOU is 33.8%.\n"
     ]
    }
   ],
   "source": [
    "# Now, the same analysis for HOU:-\n",
    "\n",
    "HOU_dep_rate = new_hflight_regular[new_hflight_regular['Origin']=='HOU']\n",
    "\n",
    "result_HOU = 100-round((len(HOU_dep_rate[HOU_dep_rate['DepDelay']>0])/len(HOU_dep_rate))*100.0,2)\n",
    "print ('The on-time departure rate of HOU is '+str(result_HOU)+'%.')"
   ]
  },
  {
   "cell_type": "markdown",
   "metadata": {},
   "source": [
    "\n",
    "IAH had a better on-time depature performance, which is 53.54%, higher than HOU, which is 33.80%"
   ]
  },
  {
   "cell_type": "code",
   "execution_count": 28,
   "metadata": {},
   "outputs": [
    {
     "data": {
      "text/plain": [
       "Text(0, 0.5, 'Departure Delay')"
      ]
     },
     "execution_count": 28,
     "metadata": {},
     "output_type": "execute_result"
    },
    {
     "data": {
      "image/png": "[encoded data removed]",
      "text/plain": [
       "<Figure size 432x288 with 1 Axes>"
      ]
     },
     "metadata": {
      "needs_background": "light"
     },
     "output_type": "display_data"
    }
   ],
   "source": [
    "# we are creating a new viz_IAH_dep variable which basically stores information of the mean of 'DepDelay':\n",
    "# we use the dataframe of 'IAH_dep_rate' to come to our analysis of which airlines had the most effective departure time\n",
    "# and which didn't have:\n",
    "\n",
    "viz_IAH_dep = IAH_dep_rate.groupby('UniqueCarrier')['DepDelay'].mean().plot.bar(title='Mean Average Departure Delay in IAH', color='green')\n",
    "viz_IAH_dep.set_ylabel('Departure Delay')"
   ]
  },
  {
   "cell_type": "markdown",
   "metadata": {},
   "source": [
    "###### As per the graph shown above, it is evident that EV, and MQ had the most departure delays in IAH."
   ]
  },
  {
   "cell_type": "code",
   "execution_count": 29,
   "metadata": {
    "scrolled": true
   },
   "outputs": [
    {
     "data": {
      "text/plain": [
       "Text(0, 0.5, 'Departure Delay')"
      ]
     },
     "execution_count": 29,
     "metadata": {},
     "output_type": "execute_result"
    },
    {
     "data": {
      "image/png": "[encoded data removed]",
      "text/plain": [
       "<Figure size 432x288 with 1 Axes>"
      ]
     },
     "metadata": {
      "needs_background": "light"
     },
     "output_type": "display_data"
    }
   ],
   "source": [
    "# we are creating a new viz_HOU_dep variable which basically stores information of the mean of 'DepDelay':\n",
    "# we use the dataframe of 'HOU_dep_rate' to come to our analysis of which airlines had the most effective departure time\n",
    "# and which didn't have:\n",
    "\n",
    "viz_HOU_dep = HOU_dep_rate.groupby('UniqueCarrier')['DepDelay'].mean().plot.bar(title='Mean Average Departure Delay in HOU', color='lime')\n",
    "viz_HOU_dep.set_ylabel('Departure Delay')"
   ]
  },
  {
   "cell_type": "markdown",
   "metadata": {},
   "source": [
    "###### As per the graph shown above, it is evident that B6, WN, EV had the most departure delays in HOU."
   ]
  },
  {
   "cell_type": "markdown",
   "metadata": {},
   "source": [
    "### 6. Conclusion:\n"
   ]
  },
  {
   "cell_type": "markdown",
   "metadata": {},
   "source": [
    "As per our findings, Following is the comparison of both IAH and HOU:-\n",
    "\n",
    "\n",
    "IAH:\n",
    "> 1. Cancellation rate is 0.99%\n",
    "> 2. On-Time departure rate is 53.54%\n",
    "> 2. EV and MQ had the most departure delays i.e. more than 15, rest every other carrier was below 10.\n",
    "\n",
    "\n",
    "HOU:\n",
    "> 1. Cancellation rate is 1.57%\n",
    "> 2. On-Time departure rate is 33.8%\n",
    "> 2. B6, WN and EV had the most departure delays i.e. more than 10, rest every other carrier was below 10.\n",
    "\n",
    "\n",
    "From this data analysis, it is evident that the performance of IAH is better than HOU. Hence, the CEO of HOU will have to answer the City of Houston and come up with a plan to improve its performance and customer travel-experience by meeting with the executives of airline carriers and finding more ways in which the performance can be increased."
   ]
  }
 ],
 "metadata": {
  "kernelspec": {
   "display_name": "Python 3",
   "language": "python",
   "name": "python3"
  },
  "language_info": {
   "codemirror_mode": {
    "name": "ipython",
    "version": 3
   },
   "file_extension": ".py",
   "mimetype": "text/x-python",
   "name": "python",
   "nbconvert_exporter": "python",
   "pygments_lexer": "ipython3",
   "version": "3.8.5"
  }
 },
 "nbformat": 4,
 "nbformat_minor": 4
}
