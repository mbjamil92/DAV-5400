{
 "cells": [
  {
   "cell_type": "markdown",
   "metadata": {},
   "source": [
    "# Module#3 Assignment (NumPy)"
   ]
  },
  {
   "cell_type": "markdown",
   "metadata": {},
   "source": [
    "### Submitted by : Muhammad Bilal Jamil (mjamil@mail.yu.edu)\n",
    "### Submitted to : Prof. Topor"
   ]
  },
  {
   "cell_type": "markdown",
   "metadata": {},
   "source": [
    "###### Q1) :\n",
    "Write a Python/NumPy code block that finds the distinct/unique common items between these two arrays:\n",
    "a = np.array([1, 2, 3, 2, 3, 4, 3, 4, 5, 6])\n",
    "b = np.array([7, 2, 10, 2, 7, 4, 9, 4, 9, 8])\n",
    "Your output should contain only the distinct overlapping values. For example, if a 2 is found in both array a and array b, your output should contain only one 2 even if array a contains more than one 2 within it.\n"
   ]
  },
  {
   "cell_type": "code",
   "execution_count": 23,
   "metadata": {},
   "outputs": [
    {
     "name": "stdout",
     "output_type": "stream",
     "text": [
      "The unique values are: [2 4]\n"
     ]
    }
   ],
   "source": [
    "#importing numpy library\n",
    "\n",
    "import numpy as np\n",
    "a =  np.array([1, 2, 3, 2, 3, 4, 3, 4, 5, 6])\n",
    "b = np.array([7, 2, 10, 2, 7, 4, 9, 4, 9, 8])\n",
    "\n",
    "'''As per the 'Python for Data Analysis' book instructions and table 4-6, the array set operator 'intersect1d(x,y)' computes\n",
    "all the common elements in 'x' and 'y' '''\n",
    "\n",
    "dist_output = np.intersect1d(a,b)\n",
    "print('The unique values are:',dist_output)"
   ]
  },
  {
   "cell_type": "markdown",
   "metadata": {},
   "source": [
    "###### Q2):\n",
    "Create the following 5x3 array using knowledge you have of Python’s / NumPy’s sequencing functionality so that you do not need to explicitly key in every integer value."
   ]
  },
  {
   "cell_type": "code",
   "execution_count": 58,
   "metadata": {},
   "outputs": [
    {
     "name": "stdout",
     "output_type": "stream",
     "text": [
      "The 3x5 array is:\n",
      " [[ 1  2  3  4  5]\n",
      " [ 6  7  8  9 10]\n",
      " [11 12 13 14 15]]\n"
     ]
    }
   ],
   "source": [
    "#Using the Numpy operator 'arrange' and 'reshape' we will generate an array which has 3 rows and 5 columns:\n",
    "\n",
    "arr3d = np.arange(1,16).reshape((3, 5))\n",
    "print('The 3x5 array is:\\n', arr3d)"
   ]
  },
  {
   "cell_type": "code",
   "execution_count": 114,
   "metadata": {},
   "outputs": [
    {
     "name": "stdout",
     "output_type": "stream",
     "text": [
      "The 5x3 array is:\n",
      " [[ 1  6 11]\n",
      " [ 2  7 12]\n",
      " [ 3  8 13]\n",
      " [ 4  9 14]\n",
      " [ 5 10 15]]\n"
     ]
    }
   ],
   "source": [
    "# But the requested output is not actually a 3x5 matrix rather its a 5x3 array with row elements becoming column elements\n",
    "# Hence, for this we will use NumPy's transposing 'T' method to get an output from 1-15 as desired in question and save\n",
    "# it in a variable called 'final_arr':\n",
    "\n",
    "final_arr= arr3d.T\n",
    "print('The 5x3 array is:\\n', final_arr)"
   ]
  },
  {
   "cell_type": "markdown",
   "metadata": {},
   "source": [
    "###### Q3:\n",
    "You are given the following two arrays:\n",
    "a = np.array([12, 5, 7, 15, 3, 1, 8])\n",
    "b = np.array([14, 6, 3, 11, 19, 12, 5])\n",
    ". Write a Python/Numpy code block that removes from array a any items that are also present in array b."
   ]
  },
  {
   "cell_type": "code",
   "execution_count": 64,
   "metadata": {},
   "outputs": [],
   "source": [
    "# since we have used a,b before and we don't want the values to be updated. Then, let's instead create c and d arrays:\n",
    "\n",
    "c =  np.array([12, 5, 7, 15, 3, 1, 8])\n",
    "d =  np.array([14, 6, 3, 11, 19, 12, 5])"
   ]
  },
  {
   "cell_type": "code",
   "execution_count": 110,
   "metadata": {},
   "outputs": [
    {
     "name": "stdout",
     "output_type": "stream",
     "text": [
      "The final result is : [ 7 15  1  8]\n"
     ]
    }
   ],
   "source": [
    "''' We are using a 'lamda' function, here we are checking which elements of 'c' are 'not in' 'd'. We use the 'filter' \n",
    "function to make sure the item is accepted or not. Then we use a 'list' function which helps us convert the accepted outcome \n",
    "to a list. Which with the help of 'np.array' we convert into a new array 'c'.   '''\n",
    "\n",
    "c = np.array(list(filter(lambda x: x not in d, c)))\n",
    "print('The final result is :',c)"
   ]
  },
  {
   "cell_type": "markdown",
   "metadata": {},
   "source": [
    "###### Q4:\n",
    "The process of transforming a multidimensional array into a unidimensional array is referred to as “flattening”. Transform the 5x3 array shown above in Problem 2 into a unidimensional array such that the sequence of values contained within the array is as follows: 1, 2, 3, 4, 5, 6, 7, 8, 9, 10, 11, 12, 13, 14, 15"
   ]
  },
  {
   "cell_type": "code",
   "execution_count": 124,
   "metadata": {
    "scrolled": true
   },
   "outputs": [
    {
     "name": "stdout",
     "output_type": "stream",
     "text": [
      "The flattened array is:\n",
      " [ 1  2  3  4  5  6  7  8  9 10 11 12 13 14 15]\n"
     ]
    }
   ],
   "source": [
    "'''In Q2 we created a new variable 'final_arr' which stored the 5x3 array after we transposed it. Now, for this exact problem,\n",
    "Our strategy will be very simple. We will use the NumPy function 'flatten()' and use it to flatten our original 'final_arr'\n",
    "array. But we are not done with it because it is not sorted. Hence, we will also use another NumPy function 'sort' to finally\n",
    "be able to successfully flatten the array'''\n",
    "\n",
    "flat_arr = np.sort(final_arr.flatten())\n",
    "print('The flattened array is:\\n',flat_arr)"
   ]
  },
  {
   "cell_type": "markdown",
   "metadata": {},
   "source": [
    "##### Q5:\n",
    "For this problem you will load a small data set to your online GitHub repository and then read it into a NumPy 2D array. You will then use the content that NumPy array to answer a series of analytical questions. Using the nyc_water array you’ve created, answer the following questions using NumPy’s slicing, methods, and functions:\n",
    "\n",
    "1. What is the maximum yearly NYC consumption of water in millions of gallons per day?\n",
    "2. How many calendar years are represented within this data set? NumPy's shape command is one way to find out.\n",
    "3. What is the mean and the standard deviation of the per capita daily water consumption?\n",
    "4. What is the increase or decrease in population from year to year? Use NumPy's `diff` function to create an array of differences and save that to a variable called \"pop_diff\", then print that variable to the screen."
   ]
  },
  {
   "cell_type": "code",
   "execution_count": 128,
   "metadata": {},
   "outputs": [
    {
     "data": {
      "text/plain": [
       "numpy.ndarray"
      ]
     },
     "execution_count": 128,
     "metadata": {},
     "output_type": "execute_result"
    }
   ],
   "source": [
    "# Prework for Q5:\n",
    "\n",
    "import pandas as pd\n",
    "\n",
    "# suppress scientific notation\n",
    "np.set_printoptions(suppress = True)\n",
    "\n",
    "# read the data file from GitHub and convert to a NumPy ndarray object\n",
    "nyc_water = pd.read_csv('https://raw.githubusercontent.com/mbjamil92/DAV-5400/master/Water_Consumption_In_The_New_York_City.csv').to_numpy()\n",
    "                            \n",
    "# verify you have an ndarray object\n",
    "type(nyc_water)"
   ]
  },
  {
   "cell_type": "code",
   "execution_count": 129,
   "metadata": {},
   "outputs": [
    {
     "data": {
      "text/plain": [
       "array([[   1979. , 7102100. ,    1512. ,     213. ],\n",
       "       [   1980. , 7071639. ,    1506. ,     213. ],\n",
       "       [   1981. , 7089241. ,    1309. ,     185. ],\n",
       "       [   1982. , 7109105. ,    1382. ,     194. ],\n",
       "       [   1983. , 7181224. ,    1424. ,     198. ],\n",
       "       [   1984. , 7234514. ,    1465. ,     203. ],\n",
       "       [   1985. , 7274054. ,    1326. ,     182. ],\n",
       "       [   1986. , 7319246. ,    1351. ,     185. ],\n",
       "       [   1987. , 7342476. ,    1447. ,     197. ],\n",
       "       [   1988. , 7353719. ,    1484. ,     202. ],\n",
       "       [   1989. , 7344175. ,    1402. ,     191. ],\n",
       "       [   1990. , 7335650. ,    1424. ,     194. ],\n",
       "       [   1991. , 7374501. ,    1469. ,     199. ],\n",
       "       [   1992. , 7428944. ,    1369. ,     184. ],\n",
       "       [   1993. , 7506166. ,    1368.5,     182. ],\n",
       "       [   1994. , 7570458. ,    1357.7,     179. ],\n",
       "       [   1995. , 7633040. ,    1325.7,     174. ],\n",
       "       [   1996. , 7697812. ,    1297.9,     169. ],\n",
       "       [   1997. , 7773443. ,    1205.5,     155. ],\n",
       "       [   1998. , 7858259. ,    1219.5,     155. ],\n",
       "       [   1999. , 7947660. ,    1237.2,     156. ],\n",
       "       [   2000. , 8008278. ,    1240.4,     155. ],\n",
       "       [   2001. , 8024963.5,    1184. ,     148. ],\n",
       "       [   2002. , 8041649. ,    1135.6,     141. ],\n",
       "       [   2003. , 8058334.5,    1093.7,     136. ],\n",
       "       [   2004. , 8075020. ,    1099.5,     136. ],\n",
       "       [   2005. , 8091705.5,    1138. ,     141. ],\n",
       "       [   2006. , 8108391. ,    1069. ,     132. ],\n",
       "       [   2007. , 8125076.5,    1114. ,     137. ],\n",
       "       [   2008. , 8141762. ,    1098. ,     135. ],\n",
       "       [   2009. , 8158447.5,    1007.5,     123. ],\n",
       "       [   2010. , 8175133. ,    1039. ,     127. ],\n",
       "       [   2011. , 8272963. ,    1021. ,     123. ],\n",
       "       [   2012. , 8348032. ,    1009.1,     121. ],\n",
       "       [   2013. , 8398739. ,    1006.1,     120. ],\n",
       "       [   2014. , 8437387. ,     996. ,     118. ],\n",
       "       [   2015. , 8468181. ,    1009. ,     119. ],\n",
       "       [   2016. , 8475976. ,    1002. ,     118. ],\n",
       "       [   2017. , 8438271. ,     990.2,     117. ],\n",
       "       [   2018. , 8398748. ,    1007.5,     120. ],\n",
       "       [   2019. , 8336817. ,     987.4,     118. ]])"
      ]
     },
     "execution_count": 129,
     "metadata": {},
     "output_type": "execute_result"
    }
   ],
   "source": [
    "# Checking dataset :\n",
    "nyc_water"
   ]
  },
  {
   "cell_type": "code",
   "execution_count": 167,
   "metadata": {},
   "outputs": [
    {
     "name": "stdout",
     "output_type": "stream",
     "text": [
      "The maximum yearly NYC consumption of water in millions of Gallons per day is:\n",
      " 1512.0\n"
     ]
    }
   ],
   "source": [
    "# Solving Part (1) of Q5:\n",
    "# Since, reading the data set the column to be used is 3rd one i.e. 'NYC Consumption(Million gallons per day)' which will be \n",
    "# '2' starting from 0 and saving that value in the variable 'max_value'. Also, using the NumPy 'max' function to find the value:\n",
    "\n",
    "max_value = np.max(nyc_water[0:,2])\n",
    "print('The maximum yearly NYC consumption of water in millions of Gallons per day is:\\n', max_value)"
   ]
  },
  {
   "cell_type": "code",
   "execution_count": 148,
   "metadata": {},
   "outputs": [
    {
     "name": "stdout",
     "output_type": "stream",
     "text": [
      "The total number of calendar years are:\n",
      " 41\n"
     ]
    }
   ],
   "source": [
    "# Solving Part (2) of Q5:\n",
    "# Since, we know the 'Year' column is 1st hence, the we will use the range '0:,0' for this. Now using the NumPy 'count_nonzero'\n",
    "# function to count all the years from 1979 to 2019.\n",
    "\n",
    "count_years = np.count_nonzero(nyc_water[0:,0])\n",
    "print('The total number of calendar years are:\\n',count_years)"
   ]
  },
  {
   "cell_type": "code",
   "execution_count": 168,
   "metadata": {
    "scrolled": true
   },
   "outputs": [
    {
     "name": "stdout",
     "output_type": "stream",
     "text": [
      "The standard deviation of the per capita daily water consumption in Gallons is:\n",
      " 31.847177467886052\n",
      "\n",
      "The mean of the per capita daily water consumption in Gallons is:\n",
      " 158.41463414634146\n"
     ]
    }
   ],
   "source": [
    "# Solving Part (3) of Q5:\n",
    "# From analyzing the dataset, we know that the column of our interest is '3' which can be accessed by the range '0:,3'\n",
    "# storing this value in the variable 'per_capita'. Using, NumPy's np.std function to find Standard Deviation\n",
    "# storing the this value in the variable 'std_capita':\n",
    "\n",
    "per_capita = nyc_water[0:,3]\n",
    "std_capita = np.std(per_capita)\n",
    "print('The standard deviation of the per capita daily water consumption in Gallons is:\\n', std_capita)\n",
    "\n",
    "# Now, we have found the standard deviation, let's find the mean. Using NumPy's np.mean function to find 'Mean' and \n",
    "# storing this in the variable 'mean_capita':\n",
    "\n",
    "mean_capita = np.mean(per_capita)\n",
    "print('\\nThe mean of the per capita daily water consumption in Gallons is:\\n', mean_capita)"
   ]
  },
  {
   "cell_type": "code",
   "execution_count": 172,
   "metadata": {},
   "outputs": [
    {
     "name": "stdout",
     "output_type": "stream",
     "text": [
      "The difference is:\n",
      " [-30461.   17602.   19864.   72119.   53290.   39540.   45192.   23230.\n",
      "  11243.   -9544.   -8525.   38851.   54443.   77222.   64292.   62582.\n",
      "  64772.   75631.   84816.   89401.   60618.   16685.5  16685.5  16685.5\n",
      "  16685.5  16685.5  16685.5  16685.5  16685.5  16685.5  16685.5  97830.\n",
      "  75069.   50707.   38648.   30794.    7795.  -37705.  -39523.  -61931. ]\n"
     ]
    }
   ],
   "source": [
    "# Solving Part (4) of Q5:\n",
    "\n",
    "# Here we are using NumPy's np.diff function to apply on the 2nd column. We will find 2nd column by using the range ':,1'\n",
    "# We store that information as requested in the variable 'pop_diff':\n",
    "\n",
    "pop_diff = np.diff(nyc_water[:,1])\n",
    "print('The difference is:\\n', pop_diff)"
   ]
  },
  {
   "cell_type": "markdown",
   "metadata": {},
   "source": [
    "## Citations:\n",
    "\n",
    "* https://numpy.org/doc/stable/reference/generated/numpy.vstack.html#numpy.vstack\n",
    "* https://numpy.org/doc/stable/reference/generated/numpy.arange.html#numpy.arange\n",
    "* https://numpy.org/doc/stable/reference/generated/numpy.full.html#numpy.full\n",
    "* https://numpy.org/doc/stable/reference/generated/numpy.searchsorted.html\n",
    "* https://www.guru99.com/python-lambda-function.html\n",
    "* https://www.askpython.com/python/examples/in-and-not-in-operators-in-python\n",
    "* https://numpy.org/doc/stable/reference/generated/numpy.sort.html\n",
    "* https://numpy.org/doc/stable/user/basics.rec.html?highlight=flatten#numpy.lib.recfunctions.flatten_descr\n",
    "* https://numpy.org/doc/stable/reference/generated/numpy.std.html\n",
    "* https://numpy.org/doc/stable/reference/generated/numpy.mean.html?highlight=numpy%20mean#numpy.mean\n",
    "* https://numpy.org/doc/stable/reference/generated/numpy.diff.html?highlight=diff#numpy.diff"
   ]
  }
 ],
 "metadata": {
  "kernelspec": {
   "display_name": "Python 3",
   "language": "python",
   "name": "python3"
  },
  "language_info": {
   "codemirror_mode": {
    "name": "ipython",
    "version": 3
   },
   "file_extension": ".py",
   "mimetype": "text/x-python",
   "name": "python",
   "nbconvert_exporter": "python",
   "pygments_lexer": "ipython3",
   "version": "3.8.5"
  }
 },
 "nbformat": 4,
 "nbformat_minor": 4
}
